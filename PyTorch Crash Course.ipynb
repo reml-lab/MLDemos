{
 "cells": [
  {
   "cell_type": "markdown",
   "id": "9447007b",
   "metadata": {},
   "source": [
    "# PyTorch Crash Course"
   ]
  },
  {
   "cell_type": "code",
   "execution_count": null,
   "id": "f6243241",
   "metadata": {},
   "outputs": [],
   "source": [
    "import torch\n",
    "import numpy as np"
   ]
  },
  {
   "cell_type": "markdown",
   "id": "e0ab4ccd",
   "metadata": {
    "heading_collapsed": true
   },
   "source": [
    "## Tensor Initialization and Tensor Properties\n",
    "\n",
    "See the full API at https://pytorch.org/docs/stable/tensors.html"
   ]
  },
  {
   "cell_type": "markdown",
   "id": "7ed9c149",
   "metadata": {
    "heading_collapsed": true,
    "hidden": true
   },
   "source": [
    "#### Initializing a 1D tensor from a list"
   ]
  },
  {
   "cell_type": "code",
   "execution_count": null,
   "id": "00bba7b8",
   "metadata": {
    "hidden": true
   },
   "outputs": [],
   "source": [
    "x=torch.tensor([1,2,3,4])\n",
    "print(x)"
   ]
  },
  {
   "cell_type": "markdown",
   "id": "38eec310",
   "metadata": {
    "heading_collapsed": true,
    "hidden": true
   },
   "source": [
    "#### Getting the shape of a tensor"
   ]
  },
  {
   "cell_type": "code",
   "execution_count": null,
   "id": "a8dd134a",
   "metadata": {
    "hidden": true
   },
   "outputs": [],
   "source": [
    "x.shape"
   ]
  },
  {
   "cell_type": "markdown",
   "id": "467c2ab9",
   "metadata": {
    "heading_collapsed": true,
    "hidden": true
   },
   "source": [
    "#### Reshaping a tensor"
   ]
  },
  {
   "cell_type": "code",
   "execution_count": null,
   "id": "0eb43f89",
   "metadata": {
    "hidden": true
   },
   "outputs": [],
   "source": [
    "x.reshape(4,1)"
   ]
  },
  {
   "cell_type": "code",
   "execution_count": null,
   "id": "5c14cee9",
   "metadata": {
    "hidden": true
   },
   "outputs": [],
   "source": [
    "x.reshape(1,4)"
   ]
  },
  {
   "cell_type": "code",
   "execution_count": null,
   "id": "ac7050b8",
   "metadata": {
    "hidden": true
   },
   "outputs": [],
   "source": [
    "x.reshape(1,4).shape"
   ]
  },
  {
   "cell_type": "markdown",
   "id": "3952e505",
   "metadata": {
    "heading_collapsed": true,
    "hidden": true
   },
   "source": [
    "#### Getting the type of a tensor"
   ]
  },
  {
   "cell_type": "code",
   "execution_count": null,
   "id": "d2836fb3",
   "metadata": {
    "hidden": true
   },
   "outputs": [],
   "source": [
    "type(x)"
   ]
  },
  {
   "cell_type": "code",
   "execution_count": null,
   "id": "23a4f22f",
   "metadata": {
    "hidden": true
   },
   "outputs": [],
   "source": [
    "x.dtype"
   ]
  },
  {
   "cell_type": "markdown",
   "id": "6e7876d0",
   "metadata": {
    "heading_collapsed": true,
    "hidden": true
   },
   "source": [
    "#### Setting the type of a tensor"
   ]
  },
  {
   "cell_type": "code",
   "execution_count": null,
   "id": "6d394009",
   "metadata": {
    "hidden": true
   },
   "outputs": [],
   "source": [
    "x=torch.tensor([1,2,3,4]).type(torch.float)\n",
    "x"
   ]
  },
  {
   "cell_type": "code",
   "execution_count": null,
   "id": "b97b2eef",
   "metadata": {
    "hidden": true
   },
   "outputs": [],
   "source": [
    "x.dtype"
   ]
  },
  {
   "cell_type": "code",
   "execution_count": null,
   "id": "a4f9edad",
   "metadata": {
    "hidden": true
   },
   "outputs": [],
   "source": [
    "x=torch.FloatTensor([1,2,3,4])\n",
    "x"
   ]
  },
  {
   "cell_type": "code",
   "execution_count": null,
   "id": "ce2c4bc3",
   "metadata": {
    "hidden": true
   },
   "outputs": [],
   "source": [
    "x.dtype"
   ]
  },
  {
   "cell_type": "markdown",
   "id": "acf2c377",
   "metadata": {
    "heading_collapsed": true,
    "hidden": true
   },
   "source": [
    "#### Initializing 2D Tensors"
   ]
  },
  {
   "cell_type": "code",
   "execution_count": null,
   "id": "d8468901",
   "metadata": {
    "hidden": true
   },
   "outputs": [],
   "source": [
    "y = torch.FloatTensor([[1,2,3,4],[5,6,7,8]])\n",
    "y"
   ]
  },
  {
   "cell_type": "markdown",
   "id": "c37c62f6",
   "metadata": {
    "heading_collapsed": true,
    "hidden": true
   },
   "source": [
    "#### Built in Tensor Constructors"
   ]
  },
  {
   "cell_type": "code",
   "execution_count": null,
   "id": "fd2c83d2",
   "metadata": {
    "hidden": true
   },
   "outputs": [],
   "source": [
    "torch.zeros(5)"
   ]
  },
  {
   "cell_type": "code",
   "execution_count": null,
   "id": "1a60089f",
   "metadata": {
    "hidden": true
   },
   "outputs": [],
   "source": [
    "torch.ones(5)"
   ]
  },
  {
   "cell_type": "code",
   "execution_count": null,
   "id": "854b9404",
   "metadata": {
    "hidden": true
   },
   "outputs": [],
   "source": [
    "torch.rand(5)"
   ]
  },
  {
   "cell_type": "code",
   "execution_count": null,
   "id": "f9dc3c8a",
   "metadata": {
    "hidden": true
   },
   "outputs": [],
   "source": [
    "torch.eye(5)"
   ]
  },
  {
   "cell_type": "markdown",
   "id": "caf3f74e",
   "metadata": {
    "heading_collapsed": true,
    "hidden": true
   },
   "source": [
    "#### Constructing tensors for Numpy arrays"
   ]
  },
  {
   "cell_type": "code",
   "execution_count": null,
   "id": "a9b73e0b",
   "metadata": {
    "hidden": true
   },
   "outputs": [],
   "source": [
    "torch.FloatTensor(np.random.randn(5,3))"
   ]
  },
  {
   "cell_type": "markdown",
   "id": "5ae6fd79",
   "metadata": {
    "heading_collapsed": true
   },
   "source": [
    "## Linear Algebra"
   ]
  },
  {
   "cell_type": "markdown",
   "id": "849b3084",
   "metadata": {
    "heading_collapsed": true,
    "hidden": true
   },
   "source": [
    "#### Create data"
   ]
  },
  {
   "cell_type": "code",
   "execution_count": null,
   "id": "2fc1e1aa",
   "metadata": {
    "hidden": true
   },
   "outputs": [],
   "source": [
    "x=torch.FloatTensor([[1,2,3,4]])\n",
    "z=torch.FloatTensor([[1,2,3,4],[5,6,7,8]])\n",
    "print(\"x=\",x)\n",
    "print(\"z=\",z)"
   ]
  },
  {
   "cell_type": "markdown",
   "id": "291865a2",
   "metadata": {
    "heading_collapsed": true,
    "hidden": true
   },
   "source": [
    "#### Multiplication by a sclar"
   ]
  },
  {
   "cell_type": "code",
   "execution_count": null,
   "id": "07b7fbf9",
   "metadata": {
    "hidden": true
   },
   "outputs": [],
   "source": [
    "5*x"
   ]
  },
  {
   "cell_type": "markdown",
   "id": "6ca34480",
   "metadata": {
    "heading_collapsed": true,
    "hidden": true
   },
   "source": [
    "#### Addition of a scalar"
   ]
  },
  {
   "cell_type": "code",
   "execution_count": null,
   "id": "d39f6a7b",
   "metadata": {
    "hidden": true
   },
   "outputs": [],
   "source": [
    "x+5"
   ]
  },
  {
   "cell_type": "markdown",
   "id": "eb3d3e86",
   "metadata": {
    "heading_collapsed": true,
    "hidden": true
   },
   "source": [
    "#### Addition of two tensors of the same shape"
   ]
  },
  {
   "cell_type": "code",
   "execution_count": null,
   "id": "854a94fb",
   "metadata": {
    "hidden": true
   },
   "outputs": [],
   "source": [
    "x+x"
   ]
  },
  {
   "cell_type": "markdown",
   "id": "6d9c5f93",
   "metadata": {
    "heading_collapsed": true,
    "hidden": true
   },
   "source": [
    "#### Transpose of a tensor"
   ]
  },
  {
   "cell_type": "code",
   "execution_count": null,
   "id": "f445dcb9",
   "metadata": {
    "hidden": true
   },
   "outputs": [],
   "source": [
    "x.T"
   ]
  },
  {
   "cell_type": "markdown",
   "id": "bfcf48f3",
   "metadata": {
    "heading_collapsed": true,
    "hidden": true
   },
   "source": [
    "#### Matrix Multiplication"
   ]
  },
  {
   "cell_type": "code",
   "execution_count": null,
   "id": "444d98c4",
   "metadata": {
    "hidden": true
   },
   "outputs": [],
   "source": [
    "x@x.T"
   ]
  },
  {
   "cell_type": "code",
   "execution_count": null,
   "id": "2b7a8e99",
   "metadata": {
    "hidden": true
   },
   "outputs": [],
   "source": [
    "x.T@x"
   ]
  },
  {
   "cell_type": "code",
   "execution_count": null,
   "id": "01c432d2",
   "metadata": {
    "hidden": true
   },
   "outputs": [],
   "source": [
    "x@z.T"
   ]
  },
  {
   "cell_type": "markdown",
   "id": "2c975377",
   "metadata": {
    "heading_collapsed": true,
    "hidden": true
   },
   "source": [
    "#### Elementwise multiplication (Hadamard product)"
   ]
  },
  {
   "cell_type": "code",
   "execution_count": null,
   "id": "55a0b3b6",
   "metadata": {
    "hidden": true
   },
   "outputs": [],
   "source": [
    "x*x"
   ]
  },
  {
   "cell_type": "markdown",
   "id": "f8e1003f",
   "metadata": {
    "heading_collapsed": true
   },
   "source": [
    "## Broadcasting"
   ]
  },
  {
   "cell_type": "markdown",
   "id": "ad5ac45a",
   "metadata": {
    "heading_collapsed": true,
    "hidden": true
   },
   "source": [
    "#### Create data"
   ]
  },
  {
   "cell_type": "code",
   "execution_count": null,
   "id": "c55c5f08",
   "metadata": {
    "hidden": true
   },
   "outputs": [],
   "source": [
    "x=torch.FloatTensor([[1,2,3,4]])\n",
    "y=torch.FloatTensor([[-1,-2]]).T\n",
    "z=torch.FloatTensor([[1,2,3,4],[5,6,7,8]])\n",
    "print(\"x=\",x,\"\\n\")\n",
    "print(\"y=\",y,\"\\n\")\n",
    "print(\"z=\",z,\"\\n\")"
   ]
  },
  {
   "cell_type": "markdown",
   "id": "99bcff5a",
   "metadata": {
    "heading_collapsed": true,
    "hidden": true
   },
   "source": [
    "#### Addition with broadcasting"
   ]
  },
  {
   "cell_type": "code",
   "execution_count": null,
   "id": "f40eef64",
   "metadata": {
    "hidden": true
   },
   "outputs": [],
   "source": [
    "print(\"x=\",x,\"\\n\")\n",
    "print(\"y=\",y,\"\\n\")\n",
    "a = x+y\n",
    "print(\"x+y=\",a)"
   ]
  },
  {
   "cell_type": "code",
   "execution_count": null,
   "id": "1f4cd387",
   "metadata": {
    "hidden": true
   },
   "outputs": [],
   "source": [
    "print(\"x=\",x,\"\\n\")\n",
    "print(\"z=\",z,\"\\n\")\n",
    "a = x+z\n",
    "print(\"x+z=\",a)"
   ]
  },
  {
   "cell_type": "code",
   "execution_count": null,
   "id": "3a85c2f1",
   "metadata": {
    "hidden": true
   },
   "outputs": [],
   "source": [
    "print(\"y=\",y,\"\\n\")\n",
    "print(\"z=\",z,\"\\n\")\n",
    "a = y+z\n",
    "print(\"y+z=\",a)"
   ]
  },
  {
   "cell_type": "markdown",
   "id": "7b4b2c75",
   "metadata": {
    "heading_collapsed": true,
    "hidden": true
   },
   "source": [
    "#### Elementwise multiplication with broadcasting"
   ]
  },
  {
   "cell_type": "code",
   "execution_count": null,
   "id": "e35035e6",
   "metadata": {
    "hidden": true
   },
   "outputs": [],
   "source": [
    "x*y"
   ]
  },
  {
   "cell_type": "code",
   "execution_count": null,
   "id": "1517bfe7",
   "metadata": {
    "hidden": true
   },
   "outputs": [],
   "source": [
    "x*z"
   ]
  },
  {
   "cell_type": "code",
   "execution_count": null,
   "id": "b3e30f27",
   "metadata": {
    "hidden": true
   },
   "outputs": [],
   "source": [
    "y*z"
   ]
  },
  {
   "cell_type": "markdown",
   "id": "552ca8e4",
   "metadata": {
    "heading_collapsed": true
   },
   "source": [
    "## Elementwise Functions"
   ]
  },
  {
   "cell_type": "code",
   "execution_count": null,
   "id": "d356a5c9",
   "metadata": {
    "hidden": true
   },
   "outputs": [],
   "source": [
    "x=torch.FloatTensor([[1,2,-3,-4]])\n",
    "x"
   ]
  },
  {
   "cell_type": "code",
   "execution_count": null,
   "id": "a85bd6ca",
   "metadata": {
    "hidden": true
   },
   "outputs": [],
   "source": [
    "torch.pow(x,2)"
   ]
  },
  {
   "cell_type": "code",
   "execution_count": null,
   "id": "ecf710d5",
   "metadata": {
    "hidden": true
   },
   "outputs": [],
   "source": [
    "x**2"
   ]
  },
  {
   "cell_type": "code",
   "execution_count": null,
   "id": "58b878ad",
   "metadata": {
    "hidden": true
   },
   "outputs": [],
   "source": [
    "torch.exp(x)"
   ]
  },
  {
   "cell_type": "code",
   "execution_count": null,
   "id": "4ac6b057",
   "metadata": {
    "hidden": true
   },
   "outputs": [],
   "source": [
    "torch.log(x)"
   ]
  },
  {
   "cell_type": "code",
   "execution_count": null,
   "id": "8e115bbc",
   "metadata": {
    "hidden": true
   },
   "outputs": [],
   "source": [
    "torch.sin(x)"
   ]
  },
  {
   "cell_type": "code",
   "execution_count": null,
   "id": "76dd9eb2",
   "metadata": {
    "hidden": true
   },
   "outputs": [],
   "source": [
    "torch.abs(x)"
   ]
  },
  {
   "cell_type": "markdown",
   "id": "3472beab",
   "metadata": {
    "heading_collapsed": true
   },
   "source": [
    "## Matrix Functions"
   ]
  },
  {
   "cell_type": "code",
   "execution_count": null,
   "id": "4e20c90f",
   "metadata": {
    "hidden": true
   },
   "outputs": [],
   "source": [
    "z = torch.FloatTensor([[2,1],[1,3]])\n",
    "z"
   ]
  },
  {
   "cell_type": "code",
   "execution_count": null,
   "id": "b52c79bf",
   "metadata": {
    "hidden": true
   },
   "outputs": [],
   "source": [
    "torch.det(z)"
   ]
  },
  {
   "cell_type": "code",
   "execution_count": null,
   "id": "a6dbae61",
   "metadata": {
    "hidden": true
   },
   "outputs": [],
   "source": [
    "torch.inverse(z)"
   ]
  },
  {
   "cell_type": "code",
   "execution_count": null,
   "id": "159d5c6e",
   "metadata": {
    "hidden": true
   },
   "outputs": [],
   "source": [
    "torch.trace(z)"
   ]
  },
  {
   "cell_type": "markdown",
   "id": "d426041e",
   "metadata": {
    "heading_collapsed": true
   },
   "source": [
    "## Aggregation Functions"
   ]
  },
  {
   "cell_type": "markdown",
   "id": "ed6e70a0",
   "metadata": {
    "heading_collapsed": true,
    "hidden": true
   },
   "source": [
    "#### Create data"
   ]
  },
  {
   "cell_type": "code",
   "execution_count": null,
   "id": "859c5a82",
   "metadata": {
    "hidden": true
   },
   "outputs": [],
   "source": [
    "x=torch.FloatTensor([[1,2,3,4]])\n",
    "z=torch.FloatTensor([[1,2,3,4],[5,6,7,8]])\n",
    "print(\"x=\",x,\"\\n\")\n",
    "print(\"z=\",z)"
   ]
  },
  {
   "cell_type": "markdown",
   "id": "2e3de0fc",
   "metadata": {
    "heading_collapsed": true,
    "hidden": true
   },
   "source": [
    "#### Summing over all tensor elements"
   ]
  },
  {
   "cell_type": "code",
   "execution_count": null,
   "id": "1cf69292",
   "metadata": {
    "hidden": true
   },
   "outputs": [],
   "source": [
    "x.sum()"
   ]
  },
  {
   "cell_type": "code",
   "execution_count": null,
   "id": "d19720ca",
   "metadata": {
    "hidden": true
   },
   "outputs": [],
   "source": [
    "z.sum()"
   ]
  },
  {
   "cell_type": "markdown",
   "id": "8769ff8e",
   "metadata": {
    "heading_collapsed": true,
    "hidden": true
   },
   "source": [
    "#### Summing over a specific axis"
   ]
  },
  {
   "cell_type": "code",
   "execution_count": null,
   "id": "b0d85785",
   "metadata": {
    "hidden": true
   },
   "outputs": [],
   "source": [
    "z.sum(axis=0)"
   ]
  },
  {
   "cell_type": "code",
   "execution_count": null,
   "id": "40836eb3",
   "metadata": {
    "hidden": true
   },
   "outputs": [],
   "source": [
    "z.sum(axis=1)"
   ]
  },
  {
   "cell_type": "code",
   "execution_count": null,
   "id": "41f7857a",
   "metadata": {
    "hidden": true
   },
   "outputs": [],
   "source": [
    "z.sum(axis=1,keepdims=True)"
   ]
  },
  {
   "cell_type": "markdown",
   "id": "10d36bd3",
   "metadata": {
    "heading_collapsed": true,
    "hidden": true
   },
   "source": [
    "#### Mean and Product"
   ]
  },
  {
   "cell_type": "code",
   "execution_count": null,
   "id": "7c51cc6c",
   "metadata": {
    "hidden": true
   },
   "outputs": [],
   "source": [
    "x.mean()"
   ]
  },
  {
   "cell_type": "code",
   "execution_count": null,
   "id": "42b4f8b3",
   "metadata": {
    "hidden": true
   },
   "outputs": [],
   "source": [
    "x.prod()"
   ]
  },
  {
   "cell_type": "markdown",
   "id": "0e04a0d6",
   "metadata": {
    "heading_collapsed": true,
    "hidden": true
   },
   "source": [
    "#### Min and Max"
   ]
  },
  {
   "cell_type": "code",
   "execution_count": null,
   "id": "d412de13",
   "metadata": {
    "hidden": true
   },
   "outputs": [],
   "source": [
    "x.min()"
   ]
  },
  {
   "cell_type": "code",
   "execution_count": null,
   "id": "b91b5de5",
   "metadata": {
    "hidden": true
   },
   "outputs": [],
   "source": [
    "x.max()"
   ]
  },
  {
   "cell_type": "code",
   "execution_count": null,
   "id": "8294b5d3",
   "metadata": {
    "hidden": true
   },
   "outputs": [],
   "source": [
    "z.min()"
   ]
  },
  {
   "cell_type": "code",
   "execution_count": null,
   "id": "23fdcac8",
   "metadata": {
    "hidden": true
   },
   "outputs": [],
   "source": [
    "v,ind = z.min(axis=0)\n",
    "print(v)\n",
    "print(ind)"
   ]
  },
  {
   "cell_type": "code",
   "execution_count": null,
   "id": "c58d0648",
   "metadata": {
    "hidden": true
   },
   "outputs": [],
   "source": [
    "v,ind = z.min(axis=1)\n",
    "print(v)\n",
    "print(ind)"
   ]
  },
  {
   "cell_type": "markdown",
   "id": "9e68da8f",
   "metadata": {
    "heading_collapsed": true
   },
   "source": [
    "## Automatic Differentiation"
   ]
  },
  {
   "cell_type": "markdown",
   "id": "1cb52863",
   "metadata": {
    "heading_collapsed": true,
    "hidden": true
   },
   "source": [
    "#### Initializing tensors"
   ]
  },
  {
   "cell_type": "code",
   "execution_count": null,
   "id": "f0fa3083",
   "metadata": {
    "hidden": true
   },
   "outputs": [],
   "source": [
    "x=torch.FloatTensor([[1,2,3,4],[-1,-2,-3,-4]])\n",
    "y=torch.tensor([[1.0],[0.0]])\n",
    "print(\"x=\",x,\"\\n\")\n",
    "print(\"y=\",y,\"\\n\")\n"
   ]
  },
  {
   "cell_type": "markdown",
   "id": "14caeeca",
   "metadata": {
    "heading_collapsed": true,
    "hidden": true
   },
   "source": [
    "#### Initializing tensors with gradient tracking"
   ]
  },
  {
   "cell_type": "code",
   "execution_count": null,
   "id": "9b1a7ab1",
   "metadata": {
    "hidden": true
   },
   "outputs": [],
   "source": [
    "w=torch.tensor([[-1.0],[-2.0],[2.0],[1.0]],requires_grad=True)\n",
    "b=torch.tensor(-1.0,requires_grad=True)\n",
    "print(\"w=\",w,\"\\n\")\n",
    "print(\"b=\",b,\"\\n\")"
   ]
  },
  {
   "cell_type": "markdown",
   "id": "edf835e4",
   "metadata": {
    "heading_collapsed": true,
    "hidden": true
   },
   "source": [
    "#### Checking if gradient tracking is enabled"
   ]
  },
  {
   "cell_type": "code",
   "execution_count": null,
   "id": "453013af",
   "metadata": {
    "hidden": true
   },
   "outputs": [],
   "source": [
    "x.requires_grad"
   ]
  },
  {
   "cell_type": "code",
   "execution_count": null,
   "id": "d654a024",
   "metadata": {
    "hidden": true
   },
   "outputs": [],
   "source": [
    "w.requires_grad"
   ]
  },
  {
   "cell_type": "code",
   "execution_count": null,
   "id": "555337d2",
   "metadata": {
    "hidden": true
   },
   "outputs": [],
   "source": [
    "b.requires_grad"
   ]
  },
  {
   "cell_type": "markdown",
   "id": "177d46d0",
   "metadata": {
    "heading_collapsed": true,
    "hidden": true
   },
   "source": [
    "#### Performing Operations"
   ]
  },
  {
   "cell_type": "code",
   "execution_count": null,
   "id": "7acea30b",
   "metadata": {
    "hidden": true
   },
   "outputs": [],
   "source": [
    "a=x[0,:]@w +b\n",
    "a"
   ]
  },
  {
   "cell_type": "code",
   "execution_count": null,
   "id": "1e5109aa",
   "metadata": {
    "hidden": true
   },
   "outputs": [],
   "source": [
    "a.requires_grad"
   ]
  },
  {
   "cell_type": "markdown",
   "id": "791106b2",
   "metadata": {
    "heading_collapsed": true,
    "hidden": true
   },
   "source": [
    "#### Computation Graph\n"
   ]
  },
  {
   "attachments": {
    "computation_graph-2.png": {
     "image/png": "[encoded data removed]"
    }
   },
   "cell_type": "markdown",
   "id": "d51cb6a1",
   "metadata": {
    "hidden": true
   },
   "source": [
    "![computation_graph-2.png](attachment:computation_graph-2.png)"
   ]
  },
  {
   "cell_type": "markdown",
   "id": "41efcf71",
   "metadata": {
    "heading_collapsed": true,
    "hidden": true
   },
   "source": [
    "#### Getting gradient values"
   ]
  },
  {
   "cell_type": "code",
   "execution_count": null,
   "id": "02600e5f",
   "metadata": {
    "hidden": true
   },
   "outputs": [],
   "source": [
    "a.backward()\n",
    "print(\"grad_w:\",w.grad,\"\\n\")\n",
    "print(\"grad_b:\",b.grad)"
   ]
  },
  {
   "cell_type": "markdown",
   "id": "a84209be",
   "metadata": {
    "heading_collapsed": true,
    "hidden": true
   },
   "source": [
    "#### Gradient accumulation and clearing"
   ]
  },
  {
   "cell_type": "code",
   "execution_count": null,
   "id": "80a95815",
   "metadata": {
    "hidden": true
   },
   "outputs": [],
   "source": [
    "a=x[0,:]@w +b\n",
    "a.backward()\n",
    "print(\"grad_w:\",w.grad,\"grad_b:\",b.grad)"
   ]
  },
  {
   "cell_type": "code",
   "execution_count": null,
   "id": "3914753d",
   "metadata": {
    "hidden": true
   },
   "outputs": [],
   "source": [
    "w.grad=None\n",
    "b.grad=None\n",
    "a=x[0,:]@w +b\n",
    "a.backward()\n",
    "print(\"grad_w:\",w.grad,\"grad_b:\",b.grad)"
   ]
  },
  {
   "cell_type": "markdown",
   "id": "24d14324",
   "metadata": {
    "heading_collapsed": true,
    "hidden": true
   },
   "source": [
    "#### Hiding operations from gradient tracking"
   ]
  },
  {
   "cell_type": "code",
   "execution_count": null,
   "id": "01208cd7",
   "metadata": {
    "hidden": true
   },
   "outputs": [],
   "source": [
    "w.grad=None\n",
    "b.grad=None\n",
    "with torch.no_grad():\n",
    "    a=x[0,:]@w +b\n",
    "a"
   ]
  },
  {
   "cell_type": "markdown",
   "id": "516820a4",
   "metadata": {
    "hidden": true
   },
   "source": [
    "#### Example: OLS gradient"
   ]
  },
  {
   "cell_type": "code",
   "execution_count": null,
   "id": "2e753bef",
   "metadata": {
    "hidden": true
   },
   "outputs": [],
   "source": [
    "def mse(y,yhat):\n",
    "    return torch.mean((y-yhat)**2)\n",
    "\n",
    "w.grad=None\n",
    "b.grad=None\n",
    "\n",
    "yhat = x@w+b\n",
    "loss = mse(y,yhat)\n",
    "loss.backward()\n",
    "print(\"grad_w:\",w.grad,\"\\n\")\n",
    "print(\"grad_b:\",b.grad)"
   ]
  },
  {
   "cell_type": "markdown",
   "id": "5400a397",
   "metadata": {
    "heading_collapsed": true
   },
   "source": [
    "## Neural Network Modules\n",
    "See the full API at https://pytorch.org/docs/stable/nn.html"
   ]
  },
  {
   "cell_type": "markdown",
   "id": "b5a5a389",
   "metadata": {
    "hidden": true
   },
   "source": [
    "#### Generate data"
   ]
  },
  {
   "cell_type": "code",
   "execution_count": null,
   "id": "32094152",
   "metadata": {
    "hidden": true
   },
   "outputs": [],
   "source": [
    "X = torch.randn(1000,2)\n",
    "Y = -3*X[:,[0]] + 2*X[:,[1]]**2 + 3\n",
    "Y[:5,:]"
   ]
  },
  {
   "cell_type": "markdown",
   "id": "6f526733",
   "metadata": {
    "hidden": true
   },
   "source": [
    "#### Defining a linear layer from scratch"
   ]
  },
  {
   "cell_type": "code",
   "execution_count": null,
   "id": "1a43876f",
   "metadata": {
    "hidden": true
   },
   "outputs": [],
   "source": [
    "import torch.nn as nn\n",
    "\n",
    "class linear(nn.Module):\n",
    "    def __init__(self,d,k):\n",
    "        super(linear, self).__init__()\n",
    "        self.w = nn.Parameter(torch.rand(d,k))\n",
    "        self.b = nn.Parameter(torch.rand(1,k))\n",
    "        \n",
    "    def forward(self,x):\n",
    "        return x@self.w + self.b"
   ]
  },
  {
   "cell_type": "markdown",
   "id": "8079925a",
   "metadata": {
    "hidden": true
   },
   "source": [
    "#### Instatiating the layer and computing output"
   ]
  },
  {
   "cell_type": "code",
   "execution_count": null,
   "id": "01f45e76",
   "metadata": {
    "hidden": true
   },
   "outputs": [],
   "source": [
    "model = linear(2,1)\n",
    "model.forward(X[:10,:])"
   ]
  },
  {
   "cell_type": "markdown",
   "id": "c14fc014",
   "metadata": {
    "hidden": true
   },
   "source": [
    "#### Computing a loss on the output"
   ]
  },
  {
   "cell_type": "code",
   "execution_count": null,
   "id": "b8f5939b",
   "metadata": {
    "hidden": true
   },
   "outputs": [],
   "source": [
    "Yhat = model.forward(X)\n",
    "loss = mse(Yhat,Y)\n",
    "loss"
   ]
  },
  {
   "cell_type": "markdown",
   "id": "8cb994ee",
   "metadata": {
    "hidden": true
   },
   "source": [
    "#### Manually setting parameters"
   ]
  },
  {
   "cell_type": "code",
   "execution_count": null,
   "id": "3a7565db",
   "metadata": {
    "hidden": true
   },
   "outputs": [],
   "source": [
    "model.w.data = torch.zeros(2,1)\n",
    "model.b.data = torch.zeros(1,1)\n",
    "print(\"w:\",model.w)\n",
    "print(\"b:\",model.b)"
   ]
  },
  {
   "cell_type": "code",
   "execution_count": null,
   "id": "477a2076",
   "metadata": {
    "hidden": true
   },
   "outputs": [],
   "source": [
    "model.forward(X[:10,:])"
   ]
  },
  {
   "cell_type": "markdown",
   "id": "a8cc6375",
   "metadata": {
    "heading_collapsed": true
   },
   "source": [
    "## Optimization"
   ]
  },
  {
   "cell_type": "markdown",
   "id": "402f2706",
   "metadata": {
    "hidden": true
   },
   "source": [
    "#### Defining a basic fit function"
   ]
  },
  {
   "cell_type": "code",
   "execution_count": null,
   "id": "3ef0bd56",
   "metadata": {
    "hidden": true
   },
   "outputs": [],
   "source": [
    "def fit(model, lr, max_iter):\n",
    "    optimizer = torch.optim.SGD(model.parameters(), lr=lr)\n",
    "    losses=[]\n",
    "    for i in range(max_iter):\n",
    "        Yhat = model.forward(X)\n",
    "        loss = mse(Yhat,Y)\n",
    "        optimizer.zero_grad()\n",
    "        loss.backward()\n",
    "        optimizer.step()\n",
    "        losses.append(loss.detach().numpy().item())\n",
    "        if(i%10==0):\n",
    "            print(\"%d %.2f\"%(i, losses[-1]))\n",
    "            \n",
    "    return(losses)\n",
    "    "
   ]
  },
  {
   "cell_type": "markdown",
   "id": "434af582",
   "metadata": {
    "hidden": true
   },
   "source": [
    "#### Instantiating models"
   ]
  },
  {
   "cell_type": "code",
   "execution_count": null,
   "id": "5557ce5e",
   "metadata": {
    "hidden": true
   },
   "outputs": [],
   "source": [
    "models = {\"Linear\":linear(2,1)}"
   ]
  },
  {
   "cell_type": "markdown",
   "id": "a3350cb9",
   "metadata": {
    "hidden": true
   },
   "source": [
    "#### Fitting models"
   ]
  },
  {
   "cell_type": "code",
   "execution_count": null,
   "id": "06b43381",
   "metadata": {
    "hidden": true
   },
   "outputs": [],
   "source": [
    "losses = {}\n",
    "for m in models:\n",
    "    print(\"Learning model: %s\"%m)\n",
    "    losses[m] = fit(models[m], 0.05, 100)\n",
    "    print()"
   ]
  },
  {
   "cell_type": "markdown",
   "id": "3cce2ad6",
   "metadata": {
    "hidden": true
   },
   "source": [
    "#### Plotting losses"
   ]
  },
  {
   "cell_type": "code",
   "execution_count": null,
   "id": "dc4856e9",
   "metadata": {
    "hidden": true
   },
   "outputs": [],
   "source": [
    "import matplotlib.pyplot as plt\n",
    "plt.figure()\n",
    "for m in models:\n",
    "    plt.plot(losses[m])\n",
    "plt.xlabel(\"Epoch\")\n",
    "plt.ylabel(\"Loss\")\n",
    "plt.legend(list(models.keys()))\n",
    "plt.title(\"Training Loss vs Epoch\")\n",
    "plt.grid(True)"
   ]
  },
  {
   "cell_type": "markdown",
   "id": "5635ec6c",
   "metadata": {
    "hidden": true
   },
   "source": [
    "#### Computing error of fit models with eval and no_grad"
   ]
  },
  {
   "cell_type": "code",
   "execution_count": null,
   "id": "02a7f234",
   "metadata": {
    "hidden": true
   },
   "outputs": [],
   "source": [
    "Xte = torch.randn(1000,2)\n",
    "Yte = -3*Xte[:,[0]] + 2*Xte[:,[1]]**2 + 3\n",
    "\n",
    "te_err={}\n",
    "for m in models:\n",
    "    models[m].eval()\n",
    "    with torch.no_grad():\n",
    "        te_err[m]=mse(Yte,models[m].forward(Xte))\n",
    "        print(\"%s test error: %.2f\"%(m,te_err[m]))\n"
   ]
  }
 ],
 "metadata": {
  "kernelspec": {
   "display_name": "Python 3 (ipykernel)",
   "language": "python",
   "name": "python3"
  },
  "language_info": {
   "codemirror_mode": {
    "name": "ipython",
    "version": 3
   },
   "file_extension": ".py",
   "mimetype": "text/x-python",
   "name": "python",
   "nbconvert_exporter": "python",
   "pygments_lexer": "ipython3",
   "version": "3.11.5"
  }
 },
 "nbformat": 4,
 "nbformat_minor": 5
}
