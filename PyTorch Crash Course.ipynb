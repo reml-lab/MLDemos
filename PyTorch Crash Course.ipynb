{
 "cells": [
  {
   "cell_type": "markdown",
   "id": "9447007b",
   "metadata": {},
   "source": [
    "# Lecture 16: PyTorch Crash Course"
   ]
  },
  {
   "cell_type": "code",
   "execution_count": 1,
   "id": "f6243241",
   "metadata": {},
   "outputs": [],
   "source": [
    "import torch\n",
    "import numpy as np"
   ]
  },
  {
   "cell_type": "markdown",
   "id": "e0ab4ccd",
   "metadata": {
    "heading_collapsed": true
   },
   "source": [
    "## Tensor Initialization and Tensor Properties\n",
    "\n",
    "See the full API at https://pytorch.org/docs/stable/tensors.html"
   ]
  },
  {
   "cell_type": "markdown",
   "id": "7ed9c149",
   "metadata": {
    "heading_collapsed": true,
    "hidden": true
   },
   "source": [
    "#### Initializing a 1D tensor from a list"
   ]
  },
  {
   "cell_type": "code",
   "execution_count": 2,
   "id": "00bba7b8",
   "metadata": {
    "hidden": true
   },
   "outputs": [
    {
     "name": "stdout",
     "output_type": "stream",
     "text": [
      "tensor([1, 2, 3, 4])\n"
     ]
    }
   ],
   "source": [
    "x=torch.tensor([1,2,3,4])\n",
    "print(x)"
   ]
  },
  {
   "cell_type": "markdown",
   "id": "38eec310",
   "metadata": {
    "heading_collapsed": true,
    "hidden": true
   },
   "source": [
    "#### Getting the shape of a tensor"
   ]
  },
  {
   "cell_type": "code",
   "execution_count": 3,
   "id": "a8dd134a",
   "metadata": {
    "hidden": true
   },
   "outputs": [
    {
     "data": {
      "text/plain": [
       "torch.Size([4])"
      ]
     },
     "execution_count": 3,
     "metadata": {},
     "output_type": "execute_result"
    }
   ],
   "source": [
    "x.shape"
   ]
  },
  {
   "cell_type": "markdown",
   "id": "467c2ab9",
   "metadata": {
    "heading_collapsed": true,
    "hidden": true
   },
   "source": [
    "#### Reshaping a tensor"
   ]
  },
  {
   "cell_type": "code",
   "execution_count": 4,
   "id": "0eb43f89",
   "metadata": {
    "hidden": true
   },
   "outputs": [
    {
     "data": {
      "text/plain": [
       "tensor([[1],\n",
       "        [2],\n",
       "        [3],\n",
       "        [4]])"
      ]
     },
     "execution_count": 4,
     "metadata": {},
     "output_type": "execute_result"
    }
   ],
   "source": [
    "x.reshape(4,1)"
   ]
  },
  {
   "cell_type": "code",
   "execution_count": 5,
   "id": "5c14cee9",
   "metadata": {
    "hidden": true
   },
   "outputs": [
    {
     "data": {
      "text/plain": [
       "tensor([[1, 2, 3, 4]])"
      ]
     },
     "execution_count": 5,
     "metadata": {},
     "output_type": "execute_result"
    }
   ],
   "source": [
    "x.reshape(1,4)"
   ]
  },
  {
   "cell_type": "code",
   "execution_count": 6,
   "id": "ac7050b8",
   "metadata": {
    "hidden": true
   },
   "outputs": [
    {
     "data": {
      "text/plain": [
       "torch.Size([1, 4])"
      ]
     },
     "execution_count": 6,
     "metadata": {},
     "output_type": "execute_result"
    }
   ],
   "source": [
    "x.reshape(1,4).shape"
   ]
  },
  {
   "cell_type": "markdown",
   "id": "3952e505",
   "metadata": {
    "heading_collapsed": true,
    "hidden": true
   },
   "source": [
    "#### Getting the type of a tensor"
   ]
  },
  {
   "cell_type": "code",
   "execution_count": 7,
   "id": "d2836fb3",
   "metadata": {
    "hidden": true
   },
   "outputs": [
    {
     "data": {
      "text/plain": [
       "torch.Tensor"
      ]
     },
     "execution_count": 7,
     "metadata": {},
     "output_type": "execute_result"
    }
   ],
   "source": [
    "type(x)"
   ]
  },
  {
   "cell_type": "code",
   "execution_count": 8,
   "id": "23a4f22f",
   "metadata": {
    "hidden": true
   },
   "outputs": [
    {
     "data": {
      "text/plain": [
       "torch.int64"
      ]
     },
     "execution_count": 8,
     "metadata": {},
     "output_type": "execute_result"
    }
   ],
   "source": [
    "x.dtype"
   ]
  },
  {
   "cell_type": "markdown",
   "id": "6e7876d0",
   "metadata": {
    "heading_collapsed": true,
    "hidden": true
   },
   "source": [
    "#### Setting the type of a tensor"
   ]
  },
  {
   "cell_type": "code",
   "execution_count": 9,
   "id": "6d394009",
   "metadata": {
    "hidden": true
   },
   "outputs": [
    {
     "data": {
      "text/plain": [
       "tensor([1., 2., 3., 4.])"
      ]
     },
     "execution_count": 9,
     "metadata": {},
     "output_type": "execute_result"
    }
   ],
   "source": [
    "x=torch.tensor([1,2,3,4]).type(torch.float)\n",
    "x"
   ]
  },
  {
   "cell_type": "code",
   "execution_count": 10,
   "id": "b97b2eef",
   "metadata": {
    "hidden": true
   },
   "outputs": [
    {
     "data": {
      "text/plain": [
       "torch.float32"
      ]
     },
     "execution_count": 10,
     "metadata": {},
     "output_type": "execute_result"
    }
   ],
   "source": [
    "x.dtype"
   ]
  },
  {
   "cell_type": "code",
   "execution_count": 11,
   "id": "a4f9edad",
   "metadata": {
    "hidden": true
   },
   "outputs": [
    {
     "data": {
      "text/plain": [
       "tensor([1., 2., 3., 4.])"
      ]
     },
     "execution_count": 11,
     "metadata": {},
     "output_type": "execute_result"
    }
   ],
   "source": [
    "x=torch.FloatTensor([1,2,3,4])\n",
    "x"
   ]
  },
  {
   "cell_type": "code",
   "execution_count": 12,
   "id": "ce2c4bc3",
   "metadata": {
    "hidden": true
   },
   "outputs": [
    {
     "data": {
      "text/plain": [
       "torch.float32"
      ]
     },
     "execution_count": 12,
     "metadata": {},
     "output_type": "execute_result"
    }
   ],
   "source": [
    "x.dtype"
   ]
  },
  {
   "cell_type": "markdown",
   "id": "acf2c377",
   "metadata": {
    "heading_collapsed": true,
    "hidden": true
   },
   "source": [
    "#### Initializing 2D Tensors"
   ]
  },
  {
   "cell_type": "code",
   "execution_count": 13,
   "id": "d8468901",
   "metadata": {
    "hidden": true
   },
   "outputs": [
    {
     "data": {
      "text/plain": [
       "tensor([[1., 2., 3., 4.],\n",
       "        [5., 6., 7., 8.]])"
      ]
     },
     "execution_count": 13,
     "metadata": {},
     "output_type": "execute_result"
    }
   ],
   "source": [
    "y = torch.FloatTensor([[1,2,3,4],[5,6,7,8]])\n",
    "y"
   ]
  },
  {
   "cell_type": "markdown",
   "id": "c37c62f6",
   "metadata": {
    "heading_collapsed": true,
    "hidden": true
   },
   "source": [
    "#### Built in Tensor Constructors"
   ]
  },
  {
   "cell_type": "code",
   "execution_count": 14,
   "id": "fd2c83d2",
   "metadata": {
    "hidden": true
   },
   "outputs": [
    {
     "data": {
      "text/plain": [
       "tensor([0., 0., 0., 0., 0.])"
      ]
     },
     "execution_count": 14,
     "metadata": {},
     "output_type": "execute_result"
    }
   ],
   "source": [
    "torch.zeros(5)"
   ]
  },
  {
   "cell_type": "code",
   "execution_count": 15,
   "id": "1a60089f",
   "metadata": {
    "hidden": true
   },
   "outputs": [
    {
     "data": {
      "text/plain": [
       "tensor([1., 1., 1., 1., 1.])"
      ]
     },
     "execution_count": 15,
     "metadata": {},
     "output_type": "execute_result"
    }
   ],
   "source": [
    "torch.ones(5)"
   ]
  },
  {
   "cell_type": "code",
   "execution_count": 16,
   "id": "854b9404",
   "metadata": {
    "hidden": true
   },
   "outputs": [
    {
     "data": {
      "text/plain": [
       "tensor([0.0511, 0.8955, 0.5597, 0.6825, 0.8168])"
      ]
     },
     "execution_count": 16,
     "metadata": {},
     "output_type": "execute_result"
    }
   ],
   "source": [
    "torch.rand(5)"
   ]
  },
  {
   "cell_type": "code",
   "execution_count": 17,
   "id": "f9dc3c8a",
   "metadata": {
    "hidden": true
   },
   "outputs": [
    {
     "data": {
      "text/plain": [
       "tensor([[1., 0., 0., 0., 0.],\n",
       "        [0., 1., 0., 0., 0.],\n",
       "        [0., 0., 1., 0., 0.],\n",
       "        [0., 0., 0., 1., 0.],\n",
       "        [0., 0., 0., 0., 1.]])"
      ]
     },
     "execution_count": 17,
     "metadata": {},
     "output_type": "execute_result"
    }
   ],
   "source": [
    "torch.eye(5)"
   ]
  },
  {
   "cell_type": "markdown",
   "id": "caf3f74e",
   "metadata": {
    "heading_collapsed": true,
    "hidden": true
   },
   "source": [
    "#### Constructing tensors for Numpy arrays"
   ]
  },
  {
   "cell_type": "code",
   "execution_count": 18,
   "id": "a9b73e0b",
   "metadata": {
    "hidden": true
   },
   "outputs": [
    {
     "data": {
      "text/plain": [
       "tensor([[-1.0754, -1.0123, -0.7209],\n",
       "        [-0.6453, -1.7376, -1.3521],\n",
       "        [ 1.1395,  0.1085,  0.8397],\n",
       "        [ 0.5225, -2.1468, -1.3777],\n",
       "        [ 0.1642,  0.8596,  0.2979]])"
      ]
     },
     "execution_count": 18,
     "metadata": {},
     "output_type": "execute_result"
    }
   ],
   "source": [
    "torch.FloatTensor(np.random.randn(5,3))"
   ]
  },
  {
   "cell_type": "markdown",
   "id": "5ae6fd79",
   "metadata": {
    "heading_collapsed": true
   },
   "source": [
    "## Linear Algebra"
   ]
  },
  {
   "cell_type": "markdown",
   "id": "849b3084",
   "metadata": {
    "heading_collapsed": true,
    "hidden": true
   },
   "source": [
    "#### Create data"
   ]
  },
  {
   "cell_type": "code",
   "execution_count": 19,
   "id": "2fc1e1aa",
   "metadata": {
    "hidden": true
   },
   "outputs": [
    {
     "name": "stdout",
     "output_type": "stream",
     "text": [
      "x= tensor([[1., 2., 3., 4.]])\n",
      "z= tensor([[1., 2., 3., 4.],\n",
      "        [5., 6., 7., 8.]])\n"
     ]
    }
   ],
   "source": [
    "x=torch.FloatTensor([[1,2,3,4]])\n",
    "z=torch.FloatTensor([[1,2,3,4],[5,6,7,8]])\n",
    "print(\"x=\",x)\n",
    "print(\"z=\",z)"
   ]
  },
  {
   "cell_type": "markdown",
   "id": "291865a2",
   "metadata": {
    "heading_collapsed": true,
    "hidden": true
   },
   "source": [
    "#### Multiplication by a sclar"
   ]
  },
  {
   "cell_type": "code",
   "execution_count": 20,
   "id": "07b7fbf9",
   "metadata": {
    "hidden": true
   },
   "outputs": [
    {
     "data": {
      "text/plain": [
       "tensor([[ 5., 10., 15., 20.]])"
      ]
     },
     "execution_count": 20,
     "metadata": {},
     "output_type": "execute_result"
    }
   ],
   "source": [
    "5*x"
   ]
  },
  {
   "cell_type": "markdown",
   "id": "6ca34480",
   "metadata": {
    "heading_collapsed": true,
    "hidden": true
   },
   "source": [
    "#### Addition of a scalar"
   ]
  },
  {
   "cell_type": "code",
   "execution_count": 21,
   "id": "d39f6a7b",
   "metadata": {
    "hidden": true
   },
   "outputs": [
    {
     "data": {
      "text/plain": [
       "tensor([[6., 7., 8., 9.]])"
      ]
     },
     "execution_count": 21,
     "metadata": {},
     "output_type": "execute_result"
    }
   ],
   "source": [
    "x+5"
   ]
  },
  {
   "cell_type": "markdown",
   "id": "eb3d3e86",
   "metadata": {
    "heading_collapsed": true,
    "hidden": true
   },
   "source": [
    "#### Addition of two tensors of the same shape"
   ]
  },
  {
   "cell_type": "code",
   "execution_count": 22,
   "id": "854a94fb",
   "metadata": {
    "hidden": true
   },
   "outputs": [
    {
     "data": {
      "text/plain": [
       "tensor([[2., 4., 6., 8.]])"
      ]
     },
     "execution_count": 22,
     "metadata": {},
     "output_type": "execute_result"
    }
   ],
   "source": [
    "x+x"
   ]
  },
  {
   "cell_type": "markdown",
   "id": "6d9c5f93",
   "metadata": {
    "heading_collapsed": true,
    "hidden": true
   },
   "source": [
    "#### Transpose of a tensor"
   ]
  },
  {
   "cell_type": "code",
   "execution_count": 23,
   "id": "f445dcb9",
   "metadata": {
    "hidden": true
   },
   "outputs": [
    {
     "data": {
      "text/plain": [
       "tensor([[1.],\n",
       "        [2.],\n",
       "        [3.],\n",
       "        [4.]])"
      ]
     },
     "execution_count": 23,
     "metadata": {},
     "output_type": "execute_result"
    }
   ],
   "source": [
    "x.T"
   ]
  },
  {
   "cell_type": "markdown",
   "id": "bfcf48f3",
   "metadata": {
    "heading_collapsed": true,
    "hidden": true
   },
   "source": [
    "#### Matrix Multiplication"
   ]
  },
  {
   "cell_type": "code",
   "execution_count": 24,
   "id": "444d98c4",
   "metadata": {
    "hidden": true
   },
   "outputs": [
    {
     "data": {
      "text/plain": [
       "tensor([[30.]])"
      ]
     },
     "execution_count": 24,
     "metadata": {},
     "output_type": "execute_result"
    }
   ],
   "source": [
    "x@x.T"
   ]
  },
  {
   "cell_type": "code",
   "execution_count": 25,
   "id": "2b7a8e99",
   "metadata": {
    "hidden": true
   },
   "outputs": [
    {
     "data": {
      "text/plain": [
       "tensor([[ 1.,  2.,  3.,  4.],\n",
       "        [ 2.,  4.,  6.,  8.],\n",
       "        [ 3.,  6.,  9., 12.],\n",
       "        [ 4.,  8., 12., 16.]])"
      ]
     },
     "execution_count": 25,
     "metadata": {},
     "output_type": "execute_result"
    }
   ],
   "source": [
    "x.T@x"
   ]
  },
  {
   "cell_type": "code",
   "execution_count": 26,
   "id": "01c432d2",
   "metadata": {
    "hidden": true
   },
   "outputs": [
    {
     "data": {
      "text/plain": [
       "tensor([[30., 70.]])"
      ]
     },
     "execution_count": 26,
     "metadata": {},
     "output_type": "execute_result"
    }
   ],
   "source": [
    "x@z.T"
   ]
  },
  {
   "cell_type": "markdown",
   "id": "2c975377",
   "metadata": {
    "heading_collapsed": true,
    "hidden": true
   },
   "source": [
    "#### Elementwise multiplication (Hadamard product)"
   ]
  },
  {
   "cell_type": "code",
   "execution_count": 27,
   "id": "55a0b3b6",
   "metadata": {
    "hidden": true
   },
   "outputs": [
    {
     "data": {
      "text/plain": [
       "tensor([[ 1.,  4.,  9., 16.]])"
      ]
     },
     "execution_count": 27,
     "metadata": {},
     "output_type": "execute_result"
    }
   ],
   "source": [
    "x*x"
   ]
  },
  {
   "cell_type": "markdown",
   "id": "f8e1003f",
   "metadata": {
    "heading_collapsed": true
   },
   "source": [
    "## Broadcasting"
   ]
  },
  {
   "cell_type": "markdown",
   "id": "ad5ac45a",
   "metadata": {
    "heading_collapsed": true,
    "hidden": true
   },
   "source": [
    "#### Create data"
   ]
  },
  {
   "cell_type": "code",
   "execution_count": 28,
   "id": "c55c5f08",
   "metadata": {
    "hidden": true
   },
   "outputs": [
    {
     "name": "stdout",
     "output_type": "stream",
     "text": [
      "x= tensor([[1., 2., 3., 4.]]) \n",
      "\n",
      "y= tensor([[-1.],\n",
      "        [-2.]]) \n",
      "\n",
      "z= tensor([[1., 2., 3., 4.],\n",
      "        [5., 6., 7., 8.]]) \n",
      "\n"
     ]
    }
   ],
   "source": [
    "x=torch.FloatTensor([[1,2,3,4]])\n",
    "y=torch.FloatTensor([[-1,-2]]).T\n",
    "z=torch.FloatTensor([[1,2,3,4],[5,6,7,8]])\n",
    "print(\"x=\",x,\"\\n\")\n",
    "print(\"y=\",y,\"\\n\")\n",
    "print(\"z=\",z,\"\\n\")"
   ]
  },
  {
   "cell_type": "markdown",
   "id": "99bcff5a",
   "metadata": {
    "heading_collapsed": true,
    "hidden": true
   },
   "source": [
    "#### Addition with broadcasting"
   ]
  },
  {
   "cell_type": "code",
   "execution_count": 29,
   "id": "f40eef64",
   "metadata": {
    "hidden": true
   },
   "outputs": [
    {
     "name": "stdout",
     "output_type": "stream",
     "text": [
      "x= tensor([[1., 2., 3., 4.]]) \n",
      "\n",
      "y= tensor([[-1.],\n",
      "        [-2.]]) \n",
      "\n",
      "x+y= tensor([[ 0.,  1.,  2.,  3.],\n",
      "        [-1.,  0.,  1.,  2.]])\n"
     ]
    }
   ],
   "source": [
    "print(\"x=\",x,\"\\n\")\n",
    "print(\"y=\",y,\"\\n\")\n",
    "a = x+y\n",
    "print(\"x+y=\",a)"
   ]
  },
  {
   "cell_type": "code",
   "execution_count": 30,
   "id": "1f4cd387",
   "metadata": {
    "hidden": true
   },
   "outputs": [
    {
     "name": "stdout",
     "output_type": "stream",
     "text": [
      "x= tensor([[1., 2., 3., 4.]]) \n",
      "\n",
      "z= tensor([[1., 2., 3., 4.],\n",
      "        [5., 6., 7., 8.]]) \n",
      "\n",
      "x+z= tensor([[ 2.,  4.,  6.,  8.],\n",
      "        [ 6.,  8., 10., 12.]])\n"
     ]
    }
   ],
   "source": [
    "print(\"x=\",x,\"\\n\")\n",
    "print(\"z=\",z,\"\\n\")\n",
    "a = x+z\n",
    "print(\"x+z=\",a)"
   ]
  },
  {
   "cell_type": "code",
   "execution_count": 31,
   "id": "3a85c2f1",
   "metadata": {
    "hidden": true
   },
   "outputs": [
    {
     "name": "stdout",
     "output_type": "stream",
     "text": [
      "y= tensor([[-1.],\n",
      "        [-2.]]) \n",
      "\n",
      "z= tensor([[1., 2., 3., 4.],\n",
      "        [5., 6., 7., 8.]]) \n",
      "\n",
      "y+z= tensor([[0., 1., 2., 3.],\n",
      "        [3., 4., 5., 6.]])\n"
     ]
    }
   ],
   "source": [
    "print(\"y=\",y,\"\\n\")\n",
    "print(\"z=\",z,\"\\n\")\n",
    "a = y+z\n",
    "print(\"y+z=\",a)"
   ]
  },
  {
   "cell_type": "markdown",
   "id": "7b4b2c75",
   "metadata": {
    "heading_collapsed": true,
    "hidden": true
   },
   "source": [
    "#### Elementwise multiplication with broadcasting"
   ]
  },
  {
   "cell_type": "code",
   "execution_count": 32,
   "id": "e35035e6",
   "metadata": {
    "hidden": true
   },
   "outputs": [
    {
     "data": {
      "text/plain": [
       "tensor([[-1., -2., -3., -4.],\n",
       "        [-2., -4., -6., -8.]])"
      ]
     },
     "execution_count": 32,
     "metadata": {},
     "output_type": "execute_result"
    }
   ],
   "source": [
    "x*y"
   ]
  },
  {
   "cell_type": "code",
   "execution_count": 33,
   "id": "1517bfe7",
   "metadata": {
    "hidden": true
   },
   "outputs": [
    {
     "data": {
      "text/plain": [
       "tensor([[ 1.,  4.,  9., 16.],\n",
       "        [ 5., 12., 21., 32.]])"
      ]
     },
     "execution_count": 33,
     "metadata": {},
     "output_type": "execute_result"
    }
   ],
   "source": [
    "x*z"
   ]
  },
  {
   "cell_type": "code",
   "execution_count": 34,
   "id": "b3e30f27",
   "metadata": {
    "hidden": true
   },
   "outputs": [
    {
     "data": {
      "text/plain": [
       "tensor([[ -1.,  -2.,  -3.,  -4.],\n",
       "        [-10., -12., -14., -16.]])"
      ]
     },
     "execution_count": 34,
     "metadata": {},
     "output_type": "execute_result"
    }
   ],
   "source": [
    "y*z"
   ]
  },
  {
   "cell_type": "markdown",
   "id": "552ca8e4",
   "metadata": {
    "heading_collapsed": true
   },
   "source": [
    "## Elementwise Functions"
   ]
  },
  {
   "cell_type": "code",
   "execution_count": 35,
   "id": "d356a5c9",
   "metadata": {
    "hidden": true
   },
   "outputs": [
    {
     "data": {
      "text/plain": [
       "tensor([[ 1.,  2., -3., -4.]])"
      ]
     },
     "execution_count": 35,
     "metadata": {},
     "output_type": "execute_result"
    }
   ],
   "source": [
    "x=torch.FloatTensor([[1,2,-3,-4]])\n",
    "x"
   ]
  },
  {
   "cell_type": "code",
   "execution_count": 36,
   "id": "a85bd6ca",
   "metadata": {
    "hidden": true
   },
   "outputs": [
    {
     "data": {
      "text/plain": [
       "tensor([[ 1.,  4.,  9., 16.]])"
      ]
     },
     "execution_count": 36,
     "metadata": {},
     "output_type": "execute_result"
    }
   ],
   "source": [
    "torch.pow(x,2)"
   ]
  },
  {
   "cell_type": "code",
   "execution_count": 37,
   "id": "ecf710d5",
   "metadata": {
    "hidden": true
   },
   "outputs": [
    {
     "data": {
      "text/plain": [
       "tensor([[ 1.,  4.,  9., 16.]])"
      ]
     },
     "execution_count": 37,
     "metadata": {},
     "output_type": "execute_result"
    }
   ],
   "source": [
    "x**2"
   ]
  },
  {
   "cell_type": "code",
   "execution_count": 38,
   "id": "58b878ad",
   "metadata": {
    "hidden": true
   },
   "outputs": [
    {
     "data": {
      "text/plain": [
       "tensor([[2.7183, 7.3891, 0.0498, 0.0183]])"
      ]
     },
     "execution_count": 38,
     "metadata": {},
     "output_type": "execute_result"
    }
   ],
   "source": [
    "torch.exp(x)"
   ]
  },
  {
   "cell_type": "code",
   "execution_count": 39,
   "id": "4ac6b057",
   "metadata": {
    "hidden": true
   },
   "outputs": [
    {
     "data": {
      "text/plain": [
       "tensor([[0.0000, 0.6931,    nan,    nan]])"
      ]
     },
     "execution_count": 39,
     "metadata": {},
     "output_type": "execute_result"
    }
   ],
   "source": [
    "torch.log(x)"
   ]
  },
  {
   "cell_type": "code",
   "execution_count": 40,
   "id": "8e115bbc",
   "metadata": {
    "hidden": true
   },
   "outputs": [
    {
     "data": {
      "text/plain": [
       "tensor([[ 0.8415,  0.9093, -0.1411,  0.7568]])"
      ]
     },
     "execution_count": 40,
     "metadata": {},
     "output_type": "execute_result"
    }
   ],
   "source": [
    "torch.sin(x)"
   ]
  },
  {
   "cell_type": "code",
   "execution_count": 41,
   "id": "76dd9eb2",
   "metadata": {
    "hidden": true
   },
   "outputs": [
    {
     "data": {
      "text/plain": [
       "tensor([[1., 2., 3., 4.]])"
      ]
     },
     "execution_count": 41,
     "metadata": {},
     "output_type": "execute_result"
    }
   ],
   "source": [
    "torch.abs(x)"
   ]
  },
  {
   "cell_type": "markdown",
   "id": "3472beab",
   "metadata": {
    "heading_collapsed": true
   },
   "source": [
    "## Matrix Functions"
   ]
  },
  {
   "cell_type": "code",
   "execution_count": 42,
   "id": "4e20c90f",
   "metadata": {
    "hidden": true
   },
   "outputs": [
    {
     "data": {
      "text/plain": [
       "tensor([[2., 1.],\n",
       "        [1., 3.]])"
      ]
     },
     "execution_count": 42,
     "metadata": {},
     "output_type": "execute_result"
    }
   ],
   "source": [
    "z = torch.FloatTensor([[2,1],[1,3]])\n",
    "z"
   ]
  },
  {
   "cell_type": "code",
   "execution_count": 43,
   "id": "b52c79bf",
   "metadata": {
    "hidden": true
   },
   "outputs": [
    {
     "data": {
      "text/plain": [
       "tensor(5.)"
      ]
     },
     "execution_count": 43,
     "metadata": {},
     "output_type": "execute_result"
    }
   ],
   "source": [
    "torch.det(z)"
   ]
  },
  {
   "cell_type": "code",
   "execution_count": 44,
   "id": "a6dbae61",
   "metadata": {
    "hidden": true
   },
   "outputs": [
    {
     "data": {
      "text/plain": [
       "tensor([[ 0.6000, -0.2000],\n",
       "        [-0.2000,  0.4000]])"
      ]
     },
     "execution_count": 44,
     "metadata": {},
     "output_type": "execute_result"
    }
   ],
   "source": [
    "torch.inverse(z)"
   ]
  },
  {
   "cell_type": "code",
   "execution_count": 45,
   "id": "159d5c6e",
   "metadata": {
    "hidden": true
   },
   "outputs": [
    {
     "data": {
      "text/plain": [
       "tensor(5.)"
      ]
     },
     "execution_count": 45,
     "metadata": {},
     "output_type": "execute_result"
    }
   ],
   "source": [
    "torch.trace(z)"
   ]
  },
  {
   "cell_type": "markdown",
   "id": "d426041e",
   "metadata": {
    "heading_collapsed": true
   },
   "source": [
    "## Aggregation Functions"
   ]
  },
  {
   "cell_type": "markdown",
   "id": "ed6e70a0",
   "metadata": {
    "heading_collapsed": true,
    "hidden": true
   },
   "source": [
    "#### Create data"
   ]
  },
  {
   "cell_type": "code",
   "execution_count": 46,
   "id": "859c5a82",
   "metadata": {
    "hidden": true
   },
   "outputs": [
    {
     "name": "stdout",
     "output_type": "stream",
     "text": [
      "x= tensor([[1., 2., 3., 4.]]) \n",
      "\n",
      "z= tensor([[1., 2., 3., 4.],\n",
      "        [5., 6., 7., 8.]])\n"
     ]
    }
   ],
   "source": [
    "x=torch.FloatTensor([[1,2,3,4]])\n",
    "z=torch.FloatTensor([[1,2,3,4],[5,6,7,8]])\n",
    "print(\"x=\",x,\"\\n\")\n",
    "print(\"z=\",z)"
   ]
  },
  {
   "cell_type": "markdown",
   "id": "2e3de0fc",
   "metadata": {
    "heading_collapsed": true,
    "hidden": true
   },
   "source": [
    "#### Summing over all tensor elements"
   ]
  },
  {
   "cell_type": "code",
   "execution_count": 47,
   "id": "1cf69292",
   "metadata": {
    "hidden": true
   },
   "outputs": [
    {
     "data": {
      "text/plain": [
       "tensor(10.)"
      ]
     },
     "execution_count": 47,
     "metadata": {},
     "output_type": "execute_result"
    }
   ],
   "source": [
    "x.sum()"
   ]
  },
  {
   "cell_type": "code",
   "execution_count": 48,
   "id": "d19720ca",
   "metadata": {
    "hidden": true
   },
   "outputs": [
    {
     "data": {
      "text/plain": [
       "tensor(36.)"
      ]
     },
     "execution_count": 48,
     "metadata": {},
     "output_type": "execute_result"
    }
   ],
   "source": [
    "z.sum()"
   ]
  },
  {
   "cell_type": "markdown",
   "id": "8769ff8e",
   "metadata": {
    "heading_collapsed": true,
    "hidden": true
   },
   "source": [
    "#### Summing over a specific axis"
   ]
  },
  {
   "cell_type": "code",
   "execution_count": 49,
   "id": "b0d85785",
   "metadata": {
    "hidden": true
   },
   "outputs": [
    {
     "data": {
      "text/plain": [
       "tensor([ 6.,  8., 10., 12.])"
      ]
     },
     "execution_count": 49,
     "metadata": {},
     "output_type": "execute_result"
    }
   ],
   "source": [
    "z.sum(axis=0)"
   ]
  },
  {
   "cell_type": "code",
   "execution_count": 50,
   "id": "40836eb3",
   "metadata": {
    "hidden": true
   },
   "outputs": [
    {
     "data": {
      "text/plain": [
       "tensor([10., 26.])"
      ]
     },
     "execution_count": 50,
     "metadata": {},
     "output_type": "execute_result"
    }
   ],
   "source": [
    "z.sum(axis=1)"
   ]
  },
  {
   "cell_type": "code",
   "execution_count": 51,
   "id": "41f7857a",
   "metadata": {
    "hidden": true
   },
   "outputs": [
    {
     "data": {
      "text/plain": [
       "tensor([[10.],\n",
       "        [26.]])"
      ]
     },
     "execution_count": 51,
     "metadata": {},
     "output_type": "execute_result"
    }
   ],
   "source": [
    "z.sum(axis=1,keepdims=True)"
   ]
  },
  {
   "cell_type": "markdown",
   "id": "10d36bd3",
   "metadata": {
    "heading_collapsed": true,
    "hidden": true
   },
   "source": [
    "#### Mean and Product"
   ]
  },
  {
   "cell_type": "code",
   "execution_count": 52,
   "id": "7c51cc6c",
   "metadata": {
    "hidden": true
   },
   "outputs": [
    {
     "data": {
      "text/plain": [
       "tensor(2.5000)"
      ]
     },
     "execution_count": 52,
     "metadata": {},
     "output_type": "execute_result"
    }
   ],
   "source": [
    "x.mean()"
   ]
  },
  {
   "cell_type": "code",
   "execution_count": 53,
   "id": "42b4f8b3",
   "metadata": {
    "hidden": true
   },
   "outputs": [
    {
     "data": {
      "text/plain": [
       "tensor(24.)"
      ]
     },
     "execution_count": 53,
     "metadata": {},
     "output_type": "execute_result"
    }
   ],
   "source": [
    "x.prod()"
   ]
  },
  {
   "cell_type": "markdown",
   "id": "0e04a0d6",
   "metadata": {
    "heading_collapsed": true,
    "hidden": true
   },
   "source": [
    "#### Min and Max"
   ]
  },
  {
   "cell_type": "code",
   "execution_count": 54,
   "id": "d412de13",
   "metadata": {
    "hidden": true
   },
   "outputs": [
    {
     "data": {
      "text/plain": [
       "tensor(1.)"
      ]
     },
     "execution_count": 54,
     "metadata": {},
     "output_type": "execute_result"
    }
   ],
   "source": [
    "x.min()"
   ]
  },
  {
   "cell_type": "code",
   "execution_count": 55,
   "id": "b91b5de5",
   "metadata": {
    "hidden": true
   },
   "outputs": [
    {
     "data": {
      "text/plain": [
       "tensor(4.)"
      ]
     },
     "execution_count": 55,
     "metadata": {},
     "output_type": "execute_result"
    }
   ],
   "source": [
    "x.max()"
   ]
  },
  {
   "cell_type": "code",
   "execution_count": 56,
   "id": "8294b5d3",
   "metadata": {
    "hidden": true
   },
   "outputs": [
    {
     "data": {
      "text/plain": [
       "tensor(1.)"
      ]
     },
     "execution_count": 56,
     "metadata": {},
     "output_type": "execute_result"
    }
   ],
   "source": [
    "z.min()"
   ]
  },
  {
   "cell_type": "code",
   "execution_count": 57,
   "id": "23fdcac8",
   "metadata": {
    "hidden": true
   },
   "outputs": [
    {
     "name": "stdout",
     "output_type": "stream",
     "text": [
      "tensor([1., 2., 3., 4.])\n",
      "tensor([0, 0, 0, 0])\n"
     ]
    }
   ],
   "source": [
    "v,ind = z.min(axis=0)\n",
    "print(v)\n",
    "print(ind)"
   ]
  },
  {
   "cell_type": "code",
   "execution_count": 58,
   "id": "c58d0648",
   "metadata": {
    "hidden": true
   },
   "outputs": [
    {
     "name": "stdout",
     "output_type": "stream",
     "text": [
      "tensor([1., 5.])\n",
      "tensor([0, 0])\n"
     ]
    }
   ],
   "source": [
    "v,ind = z.min(axis=1)\n",
    "print(v)\n",
    "print(ind)"
   ]
  },
  {
   "cell_type": "markdown",
   "id": "9e68da8f",
   "metadata": {
    "heading_collapsed": true
   },
   "source": [
    "## Automatic Differentiation"
   ]
  },
  {
   "cell_type": "markdown",
   "id": "1cb52863",
   "metadata": {
    "heading_collapsed": true,
    "hidden": true
   },
   "source": [
    "#### Initializing tensors"
   ]
  },
  {
   "cell_type": "code",
   "execution_count": 59,
   "id": "f0fa3083",
   "metadata": {
    "hidden": true
   },
   "outputs": [
    {
     "name": "stdout",
     "output_type": "stream",
     "text": [
      "x= tensor([[ 1.,  2.,  3.,  4.],\n",
      "        [-1., -2., -3., -4.]]) \n",
      "\n",
      "y= tensor([[1.],\n",
      "        [0.]]) \n",
      "\n"
     ]
    }
   ],
   "source": [
    "x=torch.FloatTensor([[1,2,3,4],[-1,-2,-3,-4]])\n",
    "y=torch.tensor([[1.0],[0.0]])\n",
    "print(\"x=\",x,\"\\n\")\n",
    "print(\"y=\",y,\"\\n\")\n"
   ]
  },
  {
   "cell_type": "markdown",
   "id": "14caeeca",
   "metadata": {
    "heading_collapsed": true,
    "hidden": true
   },
   "source": [
    "#### Initializing tensors with gradient tracking"
   ]
  },
  {
   "cell_type": "code",
   "execution_count": 60,
   "id": "9b1a7ab1",
   "metadata": {
    "hidden": true
   },
   "outputs": [
    {
     "name": "stdout",
     "output_type": "stream",
     "text": [
      "w= tensor([[-1.],\n",
      "        [-2.],\n",
      "        [ 2.],\n",
      "        [ 1.]], requires_grad=True) \n",
      "\n",
      "b= tensor(-1., requires_grad=True) \n",
      "\n"
     ]
    }
   ],
   "source": [
    "w=torch.tensor([[-1.0],[-2.0],[2.0],[1.0]],requires_grad=True)\n",
    "b=torch.tensor(-1.0,requires_grad=True)\n",
    "print(\"w=\",w,\"\\n\")\n",
    "print(\"b=\",b,\"\\n\")"
   ]
  },
  {
   "cell_type": "markdown",
   "id": "edf835e4",
   "metadata": {
    "heading_collapsed": true,
    "hidden": true
   },
   "source": [
    "#### Checking if gradient tracking is enabled"
   ]
  },
  {
   "cell_type": "code",
   "execution_count": 61,
   "id": "453013af",
   "metadata": {
    "hidden": true
   },
   "outputs": [
    {
     "data": {
      "text/plain": [
       "False"
      ]
     },
     "execution_count": 61,
     "metadata": {},
     "output_type": "execute_result"
    }
   ],
   "source": [
    "x.requires_grad"
   ]
  },
  {
   "cell_type": "code",
   "execution_count": 62,
   "id": "d654a024",
   "metadata": {
    "hidden": true
   },
   "outputs": [
    {
     "data": {
      "text/plain": [
       "True"
      ]
     },
     "execution_count": 62,
     "metadata": {},
     "output_type": "execute_result"
    }
   ],
   "source": [
    "w.requires_grad"
   ]
  },
  {
   "cell_type": "code",
   "execution_count": 63,
   "id": "555337d2",
   "metadata": {
    "hidden": true
   },
   "outputs": [
    {
     "data": {
      "text/plain": [
       "True"
      ]
     },
     "execution_count": 63,
     "metadata": {},
     "output_type": "execute_result"
    }
   ],
   "source": [
    "b.requires_grad"
   ]
  },
  {
   "cell_type": "markdown",
   "id": "177d46d0",
   "metadata": {
    "heading_collapsed": true,
    "hidden": true
   },
   "source": [
    "#### Performing Operations"
   ]
  },
  {
   "cell_type": "code",
   "execution_count": 64,
   "id": "7acea30b",
   "metadata": {
    "hidden": true
   },
   "outputs": [
    {
     "data": {
      "text/plain": [
       "tensor([4.], grad_fn=<AddBackward0>)"
      ]
     },
     "execution_count": 64,
     "metadata": {},
     "output_type": "execute_result"
    }
   ],
   "source": [
    "a=x[0,:]@w +b\n",
    "a"
   ]
  },
  {
   "cell_type": "code",
   "execution_count": 65,
   "id": "1e5109aa",
   "metadata": {
    "hidden": true
   },
   "outputs": [
    {
     "data": {
      "text/plain": [
       "True"
      ]
     },
     "execution_count": 65,
     "metadata": {},
     "output_type": "execute_result"
    }
   ],
   "source": [
    "a.requires_grad"
   ]
  },
  {
   "cell_type": "markdown",
   "id": "791106b2",
   "metadata": {
    "heading_collapsed": true,
    "hidden": true
   },
   "source": [
    "#### Computation Graph\n"
   ]
  },
  {
   "attachments": {
    "computation_graph-2.png": {
     "image/png": "[encoded data removed]"
    }
   },
   "cell_type": "markdown",
   "id": "d51cb6a1",
   "metadata": {
    "hidden": true
   },
   "source": [
    "![computation_graph-2.png](attachment:computation_graph-2.png)"
   ]
  },
  {
   "cell_type": "markdown",
   "id": "41efcf71",
   "metadata": {
    "heading_collapsed": true,
    "hidden": true
   },
   "source": [
    "#### Getting gradient values"
   ]
  },
  {
   "cell_type": "code",
   "execution_count": 66,
   "id": "02600e5f",
   "metadata": {
    "hidden": true
   },
   "outputs": [
    {
     "name": "stdout",
     "output_type": "stream",
     "text": [
      "grad_w: tensor([[1.],\n",
      "        [2.],\n",
      "        [3.],\n",
      "        [4.]]) \n",
      "\n",
      "grad_b: tensor(1.)\n"
     ]
    }
   ],
   "source": [
    "a.backward()\n",
    "print(\"grad_w:\",w.grad,\"\\n\")\n",
    "print(\"grad_b:\",b.grad)"
   ]
  },
  {
   "cell_type": "markdown",
   "id": "a84209be",
   "metadata": {
    "heading_collapsed": true,
    "hidden": true
   },
   "source": [
    "#### Gradient accumulation and clearing"
   ]
  },
  {
   "cell_type": "code",
   "execution_count": 67,
   "id": "80a95815",
   "metadata": {
    "hidden": true
   },
   "outputs": [
    {
     "name": "stdout",
     "output_type": "stream",
     "text": [
      "grad_w: tensor([[2.],\n",
      "        [4.],\n",
      "        [6.],\n",
      "        [8.]]) grad_b: tensor(2.)\n"
     ]
    }
   ],
   "source": [
    "a=x[0,:]@w +b\n",
    "a.backward()\n",
    "print(\"grad_w:\",w.grad,\"grad_b:\",b.grad)"
   ]
  },
  {
   "cell_type": "code",
   "execution_count": 68,
   "id": "3914753d",
   "metadata": {
    "hidden": true
   },
   "outputs": [
    {
     "name": "stdout",
     "output_type": "stream",
     "text": [
      "grad_w: tensor([[1.],\n",
      "        [2.],\n",
      "        [3.],\n",
      "        [4.]]) grad_b: tensor(1.)\n"
     ]
    }
   ],
   "source": [
    "w.grad=None\n",
    "b.grad=None\n",
    "a=x[0,:]@w +b\n",
    "a.backward()\n",
    "print(\"grad_w:\",w.grad,\"grad_b:\",b.grad)"
   ]
  },
  {
   "cell_type": "markdown",
   "id": "24d14324",
   "metadata": {
    "heading_collapsed": true,
    "hidden": true
   },
   "source": [
    "#### Hiding operations from gradient tracking"
   ]
  },
  {
   "cell_type": "code",
   "execution_count": 69,
   "id": "01208cd7",
   "metadata": {
    "hidden": true
   },
   "outputs": [
    {
     "data": {
      "text/plain": [
       "tensor([4.])"
      ]
     },
     "execution_count": 69,
     "metadata": {},
     "output_type": "execute_result"
    }
   ],
   "source": [
    "w.grad=None\n",
    "b.grad=None\n",
    "with torch.no_grad():\n",
    "    a=x[0,:]@w +b\n",
    "a"
   ]
  },
  {
   "cell_type": "markdown",
   "id": "516820a4",
   "metadata": {
    "hidden": true
   },
   "source": [
    "#### Example: OLS gradient"
   ]
  },
  {
   "cell_type": "code",
   "execution_count": 70,
   "id": "2e753bef",
   "metadata": {
    "hidden": true
   },
   "outputs": [
    {
     "name": "stdout",
     "output_type": "stream",
     "text": [
      "grad_w: tensor([[ 9.],\n",
      "        [18.],\n",
      "        [27.],\n",
      "        [36.]]) \n",
      "\n",
      "grad_b: tensor(-3.)\n"
     ]
    }
   ],
   "source": [
    "def mse(y,yhat):\n",
    "    return torch.mean((y-yhat)**2)\n",
    "\n",
    "w.grad=None\n",
    "b.grad=None\n",
    "\n",
    "yhat = x@w+b\n",
    "loss = mse(y,yhat)\n",
    "loss.backward()\n",
    "print(\"grad_w:\",w.grad,\"\\n\")\n",
    "print(\"grad_b:\",b.grad)"
   ]
  },
  {
   "cell_type": "markdown",
   "id": "5400a397",
   "metadata": {
    "heading_collapsed": true
   },
   "source": [
    "## Neural Network Modules\n",
    "See the full API at https://pytorch.org/docs/stable/nn.html"
   ]
  },
  {
   "cell_type": "markdown",
   "id": "b5a5a389",
   "metadata": {
    "hidden": true
   },
   "source": [
    "#### Generate data"
   ]
  },
  {
   "cell_type": "code",
   "execution_count": 71,
   "id": "32094152",
   "metadata": {
    "hidden": true
   },
   "outputs": [
    {
     "data": {
      "text/plain": [
       "tensor([[ 1.3281],\n",
       "        [ 4.5852],\n",
       "        [ 1.1751],\n",
       "        [ 5.3190],\n",
       "        [12.0424]])"
      ]
     },
     "execution_count": 71,
     "metadata": {},
     "output_type": "execute_result"
    }
   ],
   "source": [
    "X = torch.randn(1000,2)\n",
    "Y = -3*X[:,[0]] + 2*X[:,[1]]**2 + 3\n",
    "Y[:5,:]"
   ]
  },
  {
   "cell_type": "markdown",
   "id": "6f526733",
   "metadata": {
    "hidden": true
   },
   "source": [
    "#### Defining a linear layer from scratch"
   ]
  },
  {
   "cell_type": "code",
   "execution_count": 72,
   "id": "1a43876f",
   "metadata": {
    "hidden": true
   },
   "outputs": [],
   "source": [
    "import torch.nn as nn\n",
    "\n",
    "class linear(nn.Module):\n",
    "    def __init__(self,d,k):\n",
    "        super(linear, self).__init__()\n",
    "        self.w = nn.Parameter(torch.rand(d,k))\n",
    "        self.b = nn.Parameter(torch.rand(1,k))\n",
    "        \n",
    "    def forward(self,x):\n",
    "        return x@self.w + self.b"
   ]
  },
  {
   "cell_type": "markdown",
   "id": "8079925a",
   "metadata": {
    "hidden": true
   },
   "source": [
    "#### Instatiating the layer and computing output"
   ]
  },
  {
   "cell_type": "code",
   "execution_count": 73,
   "id": "01f45e76",
   "metadata": {
    "hidden": true
   },
   "outputs": [
    {
     "data": {
      "text/plain": [
       "tensor([[ 0.7800],\n",
       "        [ 0.3021],\n",
       "        [ 0.6498],\n",
       "        [ 0.1447],\n",
       "        [-0.1138],\n",
       "        [-0.2512],\n",
       "        [ 0.1483],\n",
       "        [ 0.1373],\n",
       "        [ 0.2449],\n",
       "        [ 0.6503]], grad_fn=<AddBackward0>)"
      ]
     },
     "execution_count": 73,
     "metadata": {},
     "output_type": "execute_result"
    }
   ],
   "source": [
    "model = linear(2,1)\n",
    "model.forward(X[:10,:])"
   ]
  },
  {
   "cell_type": "markdown",
   "id": "c14fc014",
   "metadata": {
    "hidden": true
   },
   "source": [
    "#### Computing a loss on the output"
   ]
  },
  {
   "cell_type": "code",
   "execution_count": 74,
   "id": "b8f5939b",
   "metadata": {
    "hidden": true
   },
   "outputs": [
    {
     "data": {
      "text/plain": [
       "tensor(39.8705, grad_fn=<MeanBackward0>)"
      ]
     },
     "execution_count": 74,
     "metadata": {},
     "output_type": "execute_result"
    }
   ],
   "source": [
    "Yhat = model.forward(X)\n",
    "loss = mse(Yhat,Y)\n",
    "loss"
   ]
  },
  {
   "cell_type": "markdown",
   "id": "8cb994ee",
   "metadata": {
    "hidden": true
   },
   "source": [
    "#### Manually setting parameters"
   ]
  },
  {
   "cell_type": "code",
   "execution_count": 75,
   "id": "3a7565db",
   "metadata": {
    "hidden": true
   },
   "outputs": [
    {
     "name": "stdout",
     "output_type": "stream",
     "text": [
      "w: Parameter containing:\n",
      "tensor([[0.],\n",
      "        [0.]], requires_grad=True)\n",
      "b: Parameter containing:\n",
      "tensor([[0.]], requires_grad=True)\n"
     ]
    }
   ],
   "source": [
    "model.w.data = torch.zeros(2,1)\n",
    "model.b.data = torch.zeros(1,1)\n",
    "print(\"w:\",model.w)\n",
    "print(\"b:\",model.b)"
   ]
  },
  {
   "cell_type": "code",
   "execution_count": 76,
   "id": "477a2076",
   "metadata": {
    "hidden": true
   },
   "outputs": [
    {
     "data": {
      "text/plain": [
       "tensor([[0.],\n",
       "        [0.],\n",
       "        [0.],\n",
       "        [0.],\n",
       "        [0.],\n",
       "        [0.],\n",
       "        [0.],\n",
       "        [0.],\n",
       "        [0.],\n",
       "        [0.]], grad_fn=<AddBackward0>)"
      ]
     },
     "execution_count": 76,
     "metadata": {},
     "output_type": "execute_result"
    }
   ],
   "source": [
    "model.forward(X[:10,:])"
   ]
  },
  {
   "cell_type": "markdown",
   "id": "c0104d20",
   "metadata": {
    "hidden": true
   },
   "source": [
    "#### Defining a relu MLP using built-in layers"
   ]
  },
  {
   "cell_type": "code",
   "execution_count": 77,
   "id": "95b91c94",
   "metadata": {
    "hidden": true
   },
   "outputs": [],
   "source": [
    "class relu_mlp(nn.Module):\n",
    "    def __init__(self,d,k):\n",
    "        super(relu_mlp, self).__init__() \n",
    "        self.l1   = nn.Linear(d,k)\n",
    "        self.relu = nn.ReLU()\n",
    "        self.out  = nn.Linear(k,1)\n",
    "        \n",
    "    def forward(self,x):\n",
    "        return self.out(self.relu(self.l1(x)))"
   ]
  },
  {
   "cell_type": "markdown",
   "id": "518b05b1",
   "metadata": {
    "hidden": true
   },
   "source": [
    "#### Inspecting the model"
   ]
  },
  {
   "cell_type": "code",
   "execution_count": 78,
   "id": "25c526d6",
   "metadata": {
    "hidden": true
   },
   "outputs": [
    {
     "name": "stdout",
     "output_type": "stream",
     "text": [
      "l1: Linear(in_features=2, out_features=3, bias=True)\n",
      "relu: ReLU()\n",
      "out: Linear(in_features=3, out_features=1, bias=True)\n"
     ]
    }
   ],
   "source": [
    "model = relu_mlp(2,3)\n",
    "print(\"l1:\", model.l1)\n",
    "print(\"relu:\",model.relu)\n",
    "print(\"out:\",model.out)"
   ]
  },
  {
   "cell_type": "markdown",
   "id": "a785aaac",
   "metadata": {
    "hidden": true
   },
   "source": [
    "#### Inspecting the parameters"
   ]
  },
  {
   "cell_type": "code",
   "execution_count": 79,
   "id": "104653be",
   "metadata": {
    "hidden": true
   },
   "outputs": [
    {
     "name": "stdout",
     "output_type": "stream",
     "text": [
      "l1 weight Parameter containing:\n",
      "tensor([[ 0.0766, -0.4320],\n",
      "        [-0.6615, -0.0574],\n",
      "        [-0.4294,  0.2210]], requires_grad=True) \n",
      "\n",
      "l1 bias Parameter containing:\n",
      "tensor([-0.4012, -0.5149, -0.4955], requires_grad=True)\n"
     ]
    }
   ],
   "source": [
    "print(\"l1 weight\", model.l1.weight,\"\\n\")\n",
    "print(\"l1 bias\", model.l1.bias)"
   ]
  },
  {
   "cell_type": "markdown",
   "id": "e2a10b36",
   "metadata": {
    "hidden": true
   },
   "source": [
    "#### Computing output"
   ]
  },
  {
   "cell_type": "code",
   "execution_count": 80,
   "id": "5eba92dd",
   "metadata": {
    "hidden": true
   },
   "outputs": [
    {
     "data": {
      "text/plain": [
       "tensor([[0.4863],\n",
       "        [0.4863],\n",
       "        [0.4863],\n",
       "        [0.4863],\n",
       "        [0.4823],\n",
       "        [0.6364],\n",
       "        [0.4834],\n",
       "        [0.6093],\n",
       "        [0.4862],\n",
       "        [0.4862]], grad_fn=<AddmmBackward0>)"
      ]
     },
     "execution_count": 80,
     "metadata": {},
     "output_type": "execute_result"
    }
   ],
   "source": [
    "model.forward(X[:10,:])"
   ]
  },
  {
   "cell_type": "markdown",
   "id": "8ecfd9df",
   "metadata": {
    "hidden": true
   },
   "source": [
    "#### Computing a loss on the output"
   ]
  },
  {
   "cell_type": "code",
   "execution_count": 81,
   "id": "64349adb",
   "metadata": {
    "hidden": true
   },
   "outputs": [
    {
     "data": {
      "text/plain": [
       "tensor(36.7757, grad_fn=<MeanBackward0>)"
      ]
     },
     "execution_count": 81,
     "metadata": {},
     "output_type": "execute_result"
    }
   ],
   "source": [
    "Yhat = model.forward(X)\n",
    "loss = mse(Yhat,Y)\n",
    "loss"
   ]
  },
  {
   "cell_type": "markdown",
   "id": "fc2d46d7",
   "metadata": {
    "hidden": true
   },
   "source": [
    "#### Manipulating the parameters built-in layers"
   ]
  },
  {
   "cell_type": "code",
   "execution_count": 82,
   "id": "d847898b",
   "metadata": {
    "hidden": true
   },
   "outputs": [
    {
     "name": "stdout",
     "output_type": "stream",
     "text": [
      "l1 weight: Parameter containing:\n",
      "tensor([[0., 0.],\n",
      "        [0., 0.],\n",
      "        [0., 0.]], requires_grad=True) \n",
      "\n",
      "l1 bias: Parameter containing:\n",
      "tensor([0., 0., 0.], requires_grad=True) \n",
      "\n",
      "out weight: Parameter containing:\n",
      "tensor([[0., 0., 0.]], requires_grad=True) \n",
      "\n",
      "out bias: Parameter containing:\n",
      "tensor([0.], requires_grad=True) \n",
      "\n"
     ]
    }
   ],
   "source": [
    "with torch.no_grad():\n",
    "    model.l1.weight.data = torch.zeros_like(model.l1.weight.data)\n",
    "    model.l1.bias.data   = torch.zeros_like(model.l1.bias.data)\n",
    "    model.out.weight.data = torch.zeros_like(model.out.weight.data)\n",
    "    model.out.bias.data   = torch.zeros_like(model.out.bias.data)\n",
    "    \n",
    "print(\"l1 weight:\", model.l1.weight,\"\\n\")\n",
    "print(\"l1 bias:\", model.l1.bias,\"\\n\")\n",
    "print(\"out weight:\", model.out.weight,\"\\n\")\n",
    "print(\"out bias:\", model.out.bias,\"\\n\")"
   ]
  },
  {
   "cell_type": "code",
   "execution_count": 83,
   "id": "bdb7e03a",
   "metadata": {
    "hidden": true
   },
   "outputs": [
    {
     "data": {
      "text/plain": [
       "tensor([[0.],\n",
       "        [0.],\n",
       "        [0.],\n",
       "        [0.],\n",
       "        [0.],\n",
       "        [0.],\n",
       "        [0.],\n",
       "        [0.],\n",
       "        [0.],\n",
       "        [0.]], grad_fn=<AddmmBackward0>)"
      ]
     },
     "execution_count": 83,
     "metadata": {},
     "output_type": "execute_result"
    }
   ],
   "source": [
    "model.forward(X[:10,:])"
   ]
  },
  {
   "cell_type": "markdown",
   "id": "a8cc6375",
   "metadata": {
    "heading_collapsed": true
   },
   "source": [
    "## Optimization"
   ]
  },
  {
   "cell_type": "markdown",
   "id": "402f2706",
   "metadata": {
    "hidden": true
   },
   "source": [
    "#### Defining a basic fit function"
   ]
  },
  {
   "cell_type": "code",
   "execution_count": 84,
   "id": "3ef0bd56",
   "metadata": {
    "hidden": true
   },
   "outputs": [],
   "source": [
    "def fit(model, lr, max_iter):\n",
    "    optimizer = torch.optim.SGD(model.parameters(), lr=lr)\n",
    "    losses=[]\n",
    "    for i in range(max_iter):\n",
    "        Yhat = model.forward(X)\n",
    "        loss = mse(Yhat,Y)\n",
    "        optimizer.zero_grad()\n",
    "        loss.backward()\n",
    "        optimizer.step()\n",
    "        losses.append(loss.detach().numpy().item())\n",
    "        if(i%10==0):\n",
    "            print(\"%d %.2f\"%(i, losses[-1]))\n",
    "            \n",
    "    return(losses)\n",
    "    "
   ]
  },
  {
   "cell_type": "markdown",
   "id": "434af582",
   "metadata": {
    "hidden": true
   },
   "source": [
    "#### Instantiating models"
   ]
  },
  {
   "cell_type": "code",
   "execution_count": 85,
   "id": "5557ce5e",
   "metadata": {
    "hidden": true
   },
   "outputs": [],
   "source": [
    "models = {\"Linear\":linear(2,1),\"RELU MLP\":relu_mlp(2,20)}"
   ]
  },
  {
   "cell_type": "markdown",
   "id": "a3350cb9",
   "metadata": {
    "hidden": true
   },
   "source": [
    "#### Fitting models"
   ]
  },
  {
   "cell_type": "code",
   "execution_count": 86,
   "id": "06b43381",
   "metadata": {
    "hidden": true
   },
   "outputs": [
    {
     "name": "stdout",
     "output_type": "stream",
     "text": [
      "Learning model: Linear\n",
      "0 45.25\n",
      "10 13.00\n",
      "20 8.98\n",
      "30 8.48\n",
      "40 8.41\n",
      "50 8.41\n",
      "60 8.40\n",
      "70 8.40\n",
      "80 8.40\n",
      "90 8.40\n",
      "\n",
      "Learning model: RELU MLP\n",
      "0 41.85\n",
      "10 4.09\n",
      "20 1.30\n",
      "30 0.81\n",
      "40 0.75\n",
      "50 0.71\n",
      "60 0.68\n",
      "70 0.64\n",
      "80 0.61\n",
      "90 0.57\n",
      "\n"
     ]
    }
   ],
   "source": [
    "losses = {}\n",
    "for m in models:\n",
    "    print(\"Learning model: %s\"%m)\n",
    "    losses[m] = fit(models[m], 0.05, 100)\n",
    "    print()"
   ]
  },
  {
   "cell_type": "markdown",
   "id": "3cce2ad6",
   "metadata": {
    "hidden": true
   },
   "source": [
    "#### Plotting losses"
   ]
  },
  {
   "cell_type": "code",
   "execution_count": 87,
   "id": "dc4856e9",
   "metadata": {
    "hidden": true
   },
   "outputs": [
    {
     "data": {
      "image/png": "[encoded data removed]",
      "text/plain": [
       "<Figure size 432x288 with 1 Axes>"
      ]
     },
     "metadata": {
      "needs_background": "light"
     },
     "output_type": "display_data"
    }
   ],
   "source": [
    "import matplotlib.pyplot as plt\n",
    "plt.figure()\n",
    "for m in models:\n",
    "    plt.plot(losses[m])\n",
    "plt.xlabel(\"Epoch\")\n",
    "plt.ylabel(\"Loss\")\n",
    "plt.legend(list(models.keys()))\n",
    "plt.title(\"Training Loss vs Epoch\")\n",
    "plt.grid(True)"
   ]
  },
  {
   "cell_type": "markdown",
   "id": "5635ec6c",
   "metadata": {
    "hidden": true
   },
   "source": [
    "#### Computing error of fit models with eval and no_grad"
   ]
  },
  {
   "cell_type": "code",
   "execution_count": 88,
   "id": "02a7f234",
   "metadata": {
    "hidden": true
   },
   "outputs": [
    {
     "name": "stdout",
     "output_type": "stream",
     "text": [
      "Linear test error: 9.36\n",
      "RELU MLP test error: 0.73\n"
     ]
    }
   ],
   "source": [
    "Xte = torch.randn(1000,2)\n",
    "Yte = -3*Xte[:,[0]] + 2*Xte[:,[1]]**2 + 3\n",
    "\n",
    "te_err={}\n",
    "for m in models:\n",
    "    models[m].eval()\n",
    "    with torch.no_grad():\n",
    "        te_err[m]=mse(Yte,models[m].forward(Xte))\n",
    "        print(\"%s test error: %.2f\"%(m,te_err[m]))\n"
   ]
  },
  {
   "cell_type": "code",
   "execution_count": null,
   "id": "b7d0ff66",
   "metadata": {
    "hidden": true
   },
   "outputs": [],
   "source": []
  }
 ],
 "metadata": {
  "kernelspec": {
   "display_name": "Python 3 (ipykernel)",
   "language": "python",
   "name": "python3"
  },
  "language_info": {
   "codemirror_mode": {
    "name": "ipython",
    "version": 3
   },
   "file_extension": ".py",
   "mimetype": "text/x-python",
   "name": "python",
   "nbconvert_exporter": "python",
   "pygments_lexer": "ipython3",
   "version": "3.9.10"
  }
 },
 "nbformat": 4,
 "nbformat_minor": 5
}
