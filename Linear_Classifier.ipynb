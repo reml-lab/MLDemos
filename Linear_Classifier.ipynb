{
 "cells": [
  {
   "cell_type": "markdown",
   "metadata": {
    "id": "7V9_pKAd1zBI"
   },
   "source": [
    "# Linear Regression"
   ]
  },
  {
   "cell_type": "markdown",
   "metadata": {
    "id": "m4tlqyqh1zBL"
   },
   "source": [
    "Imports and Helper Functions\n",
    "---"
   ]
  },
  {
   "cell_type": "code",
   "execution_count": 99,
   "metadata": {
    "id": "MzXO6CCo8fBB"
   },
   "outputs": [],
   "source": [
    "%matplotlib inline\n",
    "from ipywidgets import interactive_output\n",
    "import ipywidgets as widgets\n",
    "import numpy as np\n",
    "from matplotlib import pyplot as plt\n",
    "from sklearn import linear_model"
   ]
  },
  {
   "cell_type": "markdown",
   "metadata": {
    "id": "hNTB-sukQBl9"
   },
   "source": [
    "## Data Set Generation"
   ]
  },
  {
   "cell_type": "code",
   "execution_count": 100,
   "metadata": {
    "id": "lPXeCVINQAnE"
   },
   "outputs": [],
   "source": [
    "N = 100\n",
    "datasets={}\n",
    "\n",
    "X = np.vstack((2.5*np.random.randn(int(N/2),2)-5, (2.5*np.random.randn(int(N/2),2)+5)))\n",
    "Y = np.hstack((-1*np.ones((int(N/2))), np.ones((int(N/2))))) \n",
    "\n",
    "ind = np.random.permutation(range(N))\n",
    "\n",
    "datasets[\"Dataset 1\"]=(X[ind,:],Y[ind])"
   ]
  },
  {
   "cell_type": "markdown",
   "metadata": {
    "id": "CAtj4OFXQKy8"
   },
   "source": [
    "## Define Prediction, Loss, and Learning Function"
   ]
  },
  {
   "cell_type": "code",
   "execution_count": 127,
   "metadata": {
    "id": "oERpoUU-QVWn"
   },
   "outputs": [],
   "source": [
    "def discriminant(X,w0,w1,b):\n",
    "  Yhat = w0*X[:,0] + w1*X[:,1] +b\n",
    "  return Yhat\n",
    "\n",
    "def classification_error(Y,Yhat):\n",
    "  #Compute the empirical risk given Y and Yhat\n",
    "  R = np.mean(Y*Yhat<0)\n",
    "  return(R)\n",
    "\n",
    "def fit(X,Y):\n",
    "  clf = linear_model.LogisticRegression(C=1e10)\n",
    "  clf.fit(X,Y)\n",
    "  w0=clf.coef_[0,0]\n",
    "  w1=clf.coef_[0,1]\n",
    "  b=clf.intercept_\n",
    "  return(w0,w1,b)\n"
   ]
  },
  {
   "cell_type": "markdown",
   "metadata": {
    "id": "C0zQmH4nQlT_"
   },
   "source": [
    "## Interaction Functions and UI"
   ]
  },
  {
   "cell_type": "code",
   "execution_count": 146,
   "metadata": {
    "id": "unR8P_Ij94t3"
   },
   "outputs": [],
   "source": [
    "def plot_model(w0=0, w1=0, b=0, dataset=None, N=0, learn=True):\n",
    "\n",
    "    plt.figure(figsize=(10,6))\n",
    "    plt.rcParams.update({'font.size': 12})\n",
    "\n",
    "    if(dataset is not None and N>0):\n",
    "      X,Y=datasets[dataset]\n",
    "      X=X[:N]\n",
    "      Y=Y[:N]\n",
    "    \n",
    "      ind1=(Y==1)\n",
    "      indm1=(Y==-1)\n",
    "      plt.plot(X[ind1,0],X[ind1,1],'bs')\n",
    "      plt.plot(X[indm1,0],X[indm1,1],'rs')\n",
    "\n",
    "      if(learn and np.sum(ind1)>0 and np.sum(indm1)>0):\n",
    "        w0,w1,b=fit(X,Y)\n",
    "    \n",
    "      Yhat = predict(X,w0,w1,b)\n",
    "      R = classification_error(Y,Yhat)\n",
    "    \n",
    "    else:\n",
    "      R=0\n",
    "\n",
    "    gx1, gx2 = np.meshgrid(np.arange(-10, 10,1/10.0 ),np.arange(-10, 10,1/10.0))\n",
    "    gx1l = gx1.flatten()\n",
    "    gx2l = gx2.flatten()\n",
    "    gx   = np.vstack((gx1l,gx2l)).T       \n",
    "    gyhat = discriminant(gx,w0,w1,b)  \n",
    "    gyhat = gyhat.reshape(gx1.shape)\n",
    "    \n",
    "    if(not all(gyhat.flatten()==0)):\n",
    "        contours = plt.contour(gx1, gx2, gyhat, levels=[0], linewidths=2,colors=[\"k\"]) \n",
    "        plt.imshow(gyhat, interpolation='nearest',extent=(-10, 10, -10, 10), aspect='auto', origin='lower', cmap=plt.cm.bwr_r, alpha=0.25)\n",
    "        plt.clim(-10,10)\n",
    "        plt.colorbar()\n",
    "    \n",
    "    plt.xlim(-10,10)\n",
    "    plt.ylim(-10,10)\n",
    "    plt.title(\"w0: %.2f w1:%2.f b: %.2f  Error Rate: %.2f\"%(w0, w1, b, R))\n",
    "    plt.xlabel(\"X0\")\n",
    "    plt.ylabel(\"X1\")\n",
    "    plt.grid(True)\n",
    "    plt.legend([\"Class 1\",\"Class -1\"],loc='upper left')\n",
    "    plt.show()\n",
    "\n",
    "ww0=widgets.FloatSlider(value=0.1,min=-1,max=1,step=.1,description=\"w0\",continuous_update=False)\n",
    "ww1=widgets.FloatSlider(value=0,min=-1,max=1,step=.1,description=\"w1\",continuous_update=False)\n",
    "wb=widgets.FloatSlider(value=0,min=-10,max=10,step=.1,description=\"b\",continuous_update=False)\n",
    "wd=widgets.Dropdown(options=[(\"Dataset 1\"),(\"Dataset 2\")],description=\"Dataset\")\n",
    "wn=widgets.IntSlider(value=0,min=-1,max=N,step=1,description=\"N\",continuous_update=False)\n",
    "wl=widgets.Checkbox(value=False,description=\"Learn\")\n",
    "\n",
    "out = interactive_output(plot_model, {\"w0\":ww0, \"w1\":ww1,\"b\":wb,\"dataset\":wd,\"N\":wn,\"learn\":wl});\n",
    "out.layout.height = '400px'\n",
    "box1=widgets.HBox([ww0,ww1,wb])\n",
    "box2=widgets.HBox([wd,wn,wl])\n",
    "ui=widgets.VBox([box1,box2])\n"
   ]
  },
  {
   "cell_type": "markdown",
   "metadata": {
    "id": "o-fcWbHQQ7i1"
   },
   "source": [
    "## Linear Classifier Demo"
   ]
  },
  {
   "cell_type": "code",
   "execution_count": 147,
   "metadata": {
    "colab": {
     "base_uri": "https://localhost:8080/",
     "height": 481,
     "referenced_widgets": [
      "19ed61d5891c4e5e9b62bae5f4f8bc7a",
      "a914611f4a5f4730aac436a436c2f1e9",
      "b83e39cbc04d4346af0ab41c2a579ee2",
      "92b61f257e544c4fabfdfcf49961ecf3",
      "9445714dd0ad4f3986e4d143d3b98bc8",
      "0f7c9d46cf8246aa88c4a5589b3af306",
      "f376bbbeabcb4f6b96d661e402f451b4",
      "bfb5247bc79c4133acbfa32da14f1f0d",
      "39d623bda7154b6286af5bea910c0cd3",
      "edc031de6f724d8cb0d19a9c129ef46c",
      "45ae2714bbe24a4cb01b134f81beab5e",
      "249c9021aeea445b9fc026ce4cfaa9b0",
      "c5c8191877e446a7baa07ccb43d7e2b6",
      "8ccd05c89e604d6a807893d1460851b2",
      "522f53a8238746df954d0122b10ff87e",
      "35ffd1c8aa6c44d1b57948fbc1b3ffcb",
      "49409e8c95ad4bb39bb42da62653ea34",
      "fdca9f785b0e47f880c6bb3dc685d397",
      "64bb6ecf429e44568d4aa7221fb513c5",
      "c969b5a188b143aebc529dd70410c535",
      "549eb8b107c44ea0a0b7bf5cba28f105",
      "787894e6edf14f8bae810ecbab9b7fee",
      "4810d302340a4bbfb0ad1e2ec353b703"
     ]
    },
    "id": "x4hmiiNnP_ht",
    "outputId": "7c76ce1b-c51b-46c9-9858-cd1c6a78033a"
   },
   "outputs": [
    {
     "data": {
      "application/vnd.jupyter.widget-view+json": {
       "model_id": "0f8df00743b843009abdc8b50e76dfd1",
       "version_major": 2,
       "version_minor": 0
      },
      "text/plain": [
       "Output(layout=Layout(height='400px'), outputs=({'output_type': 'display_data', 'data': {'text/plain': '<Figure…"
      ]
     },
     "metadata": {},
     "output_type": "display_data"
    },
    {
     "data": {
      "application/vnd.jupyter.widget-view+json": {
       "model_id": "b1ce36bb85fc427794d9496617a9e157",
       "version_major": 2,
       "version_minor": 0
      },
      "text/plain": [
       "VBox(children=(HBox(children=(FloatSlider(value=0.1, continuous_update=False, description='w0', max=1.0, min=-…"
      ]
     },
     "metadata": {},
     "output_type": "display_data"
    }
   ],
   "source": [
    "display(out,ui)"
   ]
  }
 ],
 "metadata": {
  "anaconda-cloud": {},
  "colab": {
   "collapsed_sections": [],
   "name": "Linear Regression.ipynb",
   "provenance": []
  },
  "kernelspec": {
   "display_name": "Python 3 (ipykernel)",
   "language": "python",
   "name": "python3"
  },
  "language_info": {
   "codemirror_mode": {
    "name": "ipython",
    "version": 3
   },
   "file_extension": ".py",
   "mimetype": "text/x-python",
   "name": "python",
   "nbconvert_exporter": "python",
   "pygments_lexer": "ipython3",
   "version": "3.9.7"
  },
  "widgets": {
   "application/vnd.jupyter.widget-state+json": {
    "0f7c9d46cf8246aa88c4a5589b3af306": {
     "model_module": "@jupyter-widgets/controls",
     "model_module_version": "1.5.0",
     "model_name": "HBoxModel",
     "state": {
      "_dom_classes": [],
      "_model_module": "@jupyter-widgets/controls",
      "_model_module_version": "1.5.0",
      "_model_name": "HBoxModel",
      "_view_count": null,
      "_view_module": "@jupyter-widgets/controls",
      "_view_module_version": "1.5.0",
      "_view_name": "HBoxView",
      "box_style": "",
      "children": [
       "IPY_MODEL_45ae2714bbe24a4cb01b134f81beab5e",
       "IPY_MODEL_249c9021aeea445b9fc026ce4cfaa9b0",
       "IPY_MODEL_c5c8191877e446a7baa07ccb43d7e2b6"
      ],
      "layout": "IPY_MODEL_edc031de6f724d8cb0d19a9c129ef46c"
     }
    },
    "19ed61d5891c4e5e9b62bae5f4f8bc7a": {
     "model_module": "@jupyter-widgets/output",
     "model_module_version": "1.0.0",
     "model_name": "OutputModel",
     "state": {
      "_dom_classes": [],
      "_model_module": "@jupyter-widgets/output",
      "_model_module_version": "1.0.0",
      "_model_name": "OutputModel",
      "_view_count": null,
      "_view_module": "@jupyter-widgets/output",
      "_view_module_version": "1.0.0",
      "_view_name": "OutputView",
      "layout": "IPY_MODEL_a914611f4a5f4730aac436a436c2f1e9",
      "msg_id": "",
      "outputs": [
       {
        "data": {
         "image/png": "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\n",
         "text/plain": "<Figure size 720x432 with 1 Axes>"
        },
        "metadata": {
         "needs_background": "light"
        },
        "output_type": "display_data"
       }
      ]
     }
    },
    "249c9021aeea445b9fc026ce4cfaa9b0": {
     "model_module": "@jupyter-widgets/controls",
     "model_module_version": "1.5.0",
     "model_name": "IntSliderModel",
     "state": {
      "_dom_classes": [],
      "_model_module": "@jupyter-widgets/controls",
      "_model_module_version": "1.5.0",
      "_model_name": "IntSliderModel",
      "_view_count": null,
      "_view_module": "@jupyter-widgets/controls",
      "_view_module_version": "1.5.0",
      "_view_name": "IntSliderView",
      "continuous_update": true,
      "description": "N",
      "description_tooltip": null,
      "disabled": false,
      "layout": "IPY_MODEL_549eb8b107c44ea0a0b7bf5cba28f105",
      "max": 100,
      "min": -1,
      "orientation": "horizontal",
      "readout": true,
      "readout_format": "d",
      "step": 1,
      "style": "IPY_MODEL_c969b5a188b143aebc529dd70410c535",
      "value": 53
     }
    },
    "35ffd1c8aa6c44d1b57948fbc1b3ffcb": {
     "model_module": "@jupyter-widgets/controls",
     "model_module_version": "1.5.0",
     "model_name": "SliderStyleModel",
     "state": {
      "_model_module": "@jupyter-widgets/controls",
      "_model_module_version": "1.5.0",
      "_model_name": "SliderStyleModel",
      "_view_count": null,
      "_view_module": "@jupyter-widgets/base",
      "_view_module_version": "1.2.0",
      "_view_name": "StyleView",
      "description_width": "",
      "handle_color": null
     }
    },
    "39d623bda7154b6286af5bea910c0cd3": {
     "model_module": "@jupyter-widgets/controls",
     "model_module_version": "1.5.0",
     "model_name": "FloatSliderModel",
     "state": {
      "_dom_classes": [],
      "_model_module": "@jupyter-widgets/controls",
      "_model_module_version": "1.5.0",
      "_model_name": "FloatSliderModel",
      "_view_count": null,
      "_view_module": "@jupyter-widgets/controls",
      "_view_module_version": "1.5.0",
      "_view_name": "FloatSliderView",
      "continuous_update": true,
      "description": "Bias",
      "description_tooltip": null,
      "disabled": false,
      "layout": "IPY_MODEL_49409e8c95ad4bb39bb42da62653ea34",
      "max": 10,
      "min": -10,
      "orientation": "horizontal",
      "readout": true,
      "readout_format": ".2f",
      "step": 0.1,
      "style": "IPY_MODEL_35ffd1c8aa6c44d1b57948fbc1b3ffcb",
      "value": 0
     }
    },
    "45ae2714bbe24a4cb01b134f81beab5e": {
     "model_module": "@jupyter-widgets/controls",
     "model_module_version": "1.5.0",
     "model_name": "DropdownModel",
     "state": {
      "_dom_classes": [],
      "_model_module": "@jupyter-widgets/controls",
      "_model_module_version": "1.5.0",
      "_model_name": "DropdownModel",
      "_options_labels": [
       "Dataset 1",
       "Dataset 2"
      ],
      "_view_count": null,
      "_view_module": "@jupyter-widgets/controls",
      "_view_module_version": "1.5.0",
      "_view_name": "DropdownView",
      "description": "Dataset",
      "description_tooltip": null,
      "disabled": false,
      "index": 0,
      "layout": "IPY_MODEL_64bb6ecf429e44568d4aa7221fb513c5",
      "style": "IPY_MODEL_fdca9f785b0e47f880c6bb3dc685d397"
     }
    },
    "4810d302340a4bbfb0ad1e2ec353b703": {
     "model_module": "@jupyter-widgets/base",
     "model_module_version": "1.2.0",
     "model_name": "LayoutModel",
     "state": {
      "_model_module": "@jupyter-widgets/base",
      "_model_module_version": "1.2.0",
      "_model_name": "LayoutModel",
      "_view_count": null,
      "_view_module": "@jupyter-widgets/base",
      "_view_module_version": "1.2.0",
      "_view_name": "LayoutView",
      "align_content": null,
      "align_items": null,
      "align_self": null,
      "border": null,
      "bottom": null,
      "display": null,
      "flex": null,
      "flex_flow": null,
      "grid_area": null,
      "grid_auto_columns": null,
      "grid_auto_flow": null,
      "grid_auto_rows": null,
      "grid_column": null,
      "grid_gap": null,
      "grid_row": null,
      "grid_template_areas": null,
      "grid_template_columns": null,
      "grid_template_rows": null,
      "height": null,
      "justify_content": null,
      "justify_items": null,
      "left": null,
      "margin": null,
      "max_height": null,
      "max_width": null,
      "min_height": null,
      "min_width": null,
      "object_fit": null,
      "object_position": null,
      "order": null,
      "overflow": null,
      "overflow_x": null,
      "overflow_y": null,
      "padding": null,
      "right": null,
      "top": null,
      "visibility": null,
      "width": null
     }
    },
    "49409e8c95ad4bb39bb42da62653ea34": {
     "model_module": "@jupyter-widgets/base",
     "model_module_version": "1.2.0",
     "model_name": "LayoutModel",
     "state": {
      "_model_module": "@jupyter-widgets/base",
      "_model_module_version": "1.2.0",
      "_model_name": "LayoutModel",
      "_view_count": null,
      "_view_module": "@jupyter-widgets/base",
      "_view_module_version": "1.2.0",
      "_view_name": "LayoutView",
      "align_content": null,
      "align_items": null,
      "align_self": null,
      "border": null,
      "bottom": null,
      "display": null,
      "flex": null,
      "flex_flow": null,
      "grid_area": null,
      "grid_auto_columns": null,
      "grid_auto_flow": null,
      "grid_auto_rows": null,
      "grid_column": null,
      "grid_gap": null,
      "grid_row": null,
      "grid_template_areas": null,
      "grid_template_columns": null,
      "grid_template_rows": null,
      "height": null,
      "justify_content": null,
      "justify_items": null,
      "left": null,
      "margin": null,
      "max_height": null,
      "max_width": null,
      "min_height": null,
      "min_width": null,
      "object_fit": null,
      "object_position": null,
      "order": null,
      "overflow": null,
      "overflow_x": null,
      "overflow_y": null,
      "padding": null,
      "right": null,
      "top": null,
      "visibility": null,
      "width": null
     }
    },
    "522f53a8238746df954d0122b10ff87e": {
     "model_module": "@jupyter-widgets/base",
     "model_module_version": "1.2.0",
     "model_name": "LayoutModel",
     "state": {
      "_model_module": "@jupyter-widgets/base",
      "_model_module_version": "1.2.0",
      "_model_name": "LayoutModel",
      "_view_count": null,
      "_view_module": "@jupyter-widgets/base",
      "_view_module_version": "1.2.0",
      "_view_name": "LayoutView",
      "align_content": null,
      "align_items": null,
      "align_self": null,
      "border": null,
      "bottom": null,
      "display": null,
      "flex": null,
      "flex_flow": null,
      "grid_area": null,
      "grid_auto_columns": null,
      "grid_auto_flow": null,
      "grid_auto_rows": null,
      "grid_column": null,
      "grid_gap": null,
      "grid_row": null,
      "grid_template_areas": null,
      "grid_template_columns": null,
      "grid_template_rows": null,
      "height": null,
      "justify_content": null,
      "justify_items": null,
      "left": null,
      "margin": null,
      "max_height": null,
      "max_width": null,
      "min_height": null,
      "min_width": null,
      "object_fit": null,
      "object_position": null,
      "order": null,
      "overflow": null,
      "overflow_x": null,
      "overflow_y": null,
      "padding": null,
      "right": null,
      "top": null,
      "visibility": null,
      "width": null
     }
    },
    "549eb8b107c44ea0a0b7bf5cba28f105": {
     "model_module": "@jupyter-widgets/base",
     "model_module_version": "1.2.0",
     "model_name": "LayoutModel",
     "state": {
      "_model_module": "@jupyter-widgets/base",
      "_model_module_version": "1.2.0",
      "_model_name": "LayoutModel",
      "_view_count": null,
      "_view_module": "@jupyter-widgets/base",
      "_view_module_version": "1.2.0",
      "_view_name": "LayoutView",
      "align_content": null,
      "align_items": null,
      "align_self": null,
      "border": null,
      "bottom": null,
      "display": null,
      "flex": null,
      "flex_flow": null,
      "grid_area": null,
      "grid_auto_columns": null,
      "grid_auto_flow": null,
      "grid_auto_rows": null,
      "grid_column": null,
      "grid_gap": null,
      "grid_row": null,
      "grid_template_areas": null,
      "grid_template_columns": null,
      "grid_template_rows": null,
      "height": null,
      "justify_content": null,
      "justify_items": null,
      "left": null,
      "margin": null,
      "max_height": null,
      "max_width": null,
      "min_height": null,
      "min_width": null,
      "object_fit": null,
      "object_position": null,
      "order": null,
      "overflow": null,
      "overflow_x": null,
      "overflow_y": null,
      "padding": null,
      "right": null,
      "top": null,
      "visibility": null,
      "width": null
     }
    },
    "64bb6ecf429e44568d4aa7221fb513c5": {
     "model_module": "@jupyter-widgets/base",
     "model_module_version": "1.2.0",
     "model_name": "LayoutModel",
     "state": {
      "_model_module": "@jupyter-widgets/base",
      "_model_module_version": "1.2.0",
      "_model_name": "LayoutModel",
      "_view_count": null,
      "_view_module": "@jupyter-widgets/base",
      "_view_module_version": "1.2.0",
      "_view_name": "LayoutView",
      "align_content": null,
      "align_items": null,
      "align_self": null,
      "border": null,
      "bottom": null,
      "display": null,
      "flex": null,
      "flex_flow": null,
      "grid_area": null,
      "grid_auto_columns": null,
      "grid_auto_flow": null,
      "grid_auto_rows": null,
      "grid_column": null,
      "grid_gap": null,
      "grid_row": null,
      "grid_template_areas": null,
      "grid_template_columns": null,
      "grid_template_rows": null,
      "height": null,
      "justify_content": null,
      "justify_items": null,
      "left": null,
      "margin": null,
      "max_height": null,
      "max_width": null,
      "min_height": null,
      "min_width": null,
      "object_fit": null,
      "object_position": null,
      "order": null,
      "overflow": null,
      "overflow_x": null,
      "overflow_y": null,
      "padding": null,
      "right": null,
      "top": null,
      "visibility": null,
      "width": null
     }
    },
    "787894e6edf14f8bae810ecbab9b7fee": {
     "model_module": "@jupyter-widgets/controls",
     "model_module_version": "1.5.0",
     "model_name": "DescriptionStyleModel",
     "state": {
      "_model_module": "@jupyter-widgets/controls",
      "_model_module_version": "1.5.0",
      "_model_name": "DescriptionStyleModel",
      "_view_count": null,
      "_view_module": "@jupyter-widgets/base",
      "_view_module_version": "1.2.0",
      "_view_name": "StyleView",
      "description_width": ""
     }
    },
    "8ccd05c89e604d6a807893d1460851b2": {
     "model_module": "@jupyter-widgets/controls",
     "model_module_version": "1.5.0",
     "model_name": "SliderStyleModel",
     "state": {
      "_model_module": "@jupyter-widgets/controls",
      "_model_module_version": "1.5.0",
      "_model_name": "SliderStyleModel",
      "_view_count": null,
      "_view_module": "@jupyter-widgets/base",
      "_view_module_version": "1.2.0",
      "_view_name": "StyleView",
      "description_width": "",
      "handle_color": null
     }
    },
    "92b61f257e544c4fabfdfcf49961ecf3": {
     "model_module": "@jupyter-widgets/base",
     "model_module_version": "1.2.0",
     "model_name": "LayoutModel",
     "state": {
      "_model_module": "@jupyter-widgets/base",
      "_model_module_version": "1.2.0",
      "_model_name": "LayoutModel",
      "_view_count": null,
      "_view_module": "@jupyter-widgets/base",
      "_view_module_version": "1.2.0",
      "_view_name": "LayoutView",
      "align_content": null,
      "align_items": null,
      "align_self": null,
      "border": null,
      "bottom": null,
      "display": null,
      "flex": null,
      "flex_flow": null,
      "grid_area": null,
      "grid_auto_columns": null,
      "grid_auto_flow": null,
      "grid_auto_rows": null,
      "grid_column": null,
      "grid_gap": null,
      "grid_row": null,
      "grid_template_areas": null,
      "grid_template_columns": null,
      "grid_template_rows": null,
      "height": null,
      "justify_content": null,
      "justify_items": null,
      "left": null,
      "margin": null,
      "max_height": null,
      "max_width": null,
      "min_height": null,
      "min_width": null,
      "object_fit": null,
      "object_position": null,
      "order": null,
      "overflow": null,
      "overflow_x": null,
      "overflow_y": null,
      "padding": null,
      "right": null,
      "top": null,
      "visibility": null,
      "width": null
     }
    },
    "9445714dd0ad4f3986e4d143d3b98bc8": {
     "model_module": "@jupyter-widgets/controls",
     "model_module_version": "1.5.0",
     "model_name": "HBoxModel",
     "state": {
      "_dom_classes": [],
      "_model_module": "@jupyter-widgets/controls",
      "_model_module_version": "1.5.0",
      "_model_name": "HBoxModel",
      "_view_count": null,
      "_view_module": "@jupyter-widgets/controls",
      "_view_module_version": "1.5.0",
      "_view_name": "HBoxView",
      "box_style": "",
      "children": [
       "IPY_MODEL_bfb5247bc79c4133acbfa32da14f1f0d",
       "IPY_MODEL_39d623bda7154b6286af5bea910c0cd3"
      ],
      "layout": "IPY_MODEL_f376bbbeabcb4f6b96d661e402f451b4"
     }
    },
    "a914611f4a5f4730aac436a436c2f1e9": {
     "model_module": "@jupyter-widgets/base",
     "model_module_version": "1.2.0",
     "model_name": "LayoutModel",
     "state": {
      "_model_module": "@jupyter-widgets/base",
      "_model_module_version": "1.2.0",
      "_model_name": "LayoutModel",
      "_view_count": null,
      "_view_module": "@jupyter-widgets/base",
      "_view_module_version": "1.2.0",
      "_view_name": "LayoutView",
      "align_content": null,
      "align_items": null,
      "align_self": null,
      "border": null,
      "bottom": null,
      "display": null,
      "flex": null,
      "flex_flow": null,
      "grid_area": null,
      "grid_auto_columns": null,
      "grid_auto_flow": null,
      "grid_auto_rows": null,
      "grid_column": null,
      "grid_gap": null,
      "grid_row": null,
      "grid_template_areas": null,
      "grid_template_columns": null,
      "grid_template_rows": null,
      "height": "400px",
      "justify_content": null,
      "justify_items": null,
      "left": null,
      "margin": null,
      "max_height": null,
      "max_width": null,
      "min_height": null,
      "min_width": null,
      "object_fit": null,
      "object_position": null,
      "order": null,
      "overflow": null,
      "overflow_x": null,
      "overflow_y": null,
      "padding": null,
      "right": null,
      "top": null,
      "visibility": null,
      "width": null
     }
    },
    "b83e39cbc04d4346af0ab41c2a579ee2": {
     "model_module": "@jupyter-widgets/controls",
     "model_module_version": "1.5.0",
     "model_name": "VBoxModel",
     "state": {
      "_dom_classes": [],
      "_model_module": "@jupyter-widgets/controls",
      "_model_module_version": "1.5.0",
      "_model_name": "VBoxModel",
      "_view_count": null,
      "_view_module": "@jupyter-widgets/controls",
      "_view_module_version": "1.5.0",
      "_view_name": "VBoxView",
      "box_style": "",
      "children": [
       "IPY_MODEL_9445714dd0ad4f3986e4d143d3b98bc8",
       "IPY_MODEL_0f7c9d46cf8246aa88c4a5589b3af306"
      ],
      "layout": "IPY_MODEL_92b61f257e544c4fabfdfcf49961ecf3"
     }
    },
    "bfb5247bc79c4133acbfa32da14f1f0d": {
     "model_module": "@jupyter-widgets/controls",
     "model_module_version": "1.5.0",
     "model_name": "FloatSliderModel",
     "state": {
      "_dom_classes": [],
      "_model_module": "@jupyter-widgets/controls",
      "_model_module_version": "1.5.0",
      "_model_name": "FloatSliderModel",
      "_view_count": null,
      "_view_module": "@jupyter-widgets/controls",
      "_view_module_version": "1.5.0",
      "_view_name": "FloatSliderView",
      "continuous_update": true,
      "description": "Weight",
      "description_tooltip": null,
      "disabled": false,
      "layout": "IPY_MODEL_522f53a8238746df954d0122b10ff87e",
      "max": 1,
      "min": -1,
      "orientation": "horizontal",
      "readout": true,
      "readout_format": ".2f",
      "step": 0.1,
      "style": "IPY_MODEL_8ccd05c89e604d6a807893d1460851b2",
      "value": 0.7
     }
    },
    "c5c8191877e446a7baa07ccb43d7e2b6": {
     "model_module": "@jupyter-widgets/controls",
     "model_module_version": "1.5.0",
     "model_name": "CheckboxModel",
     "state": {
      "_dom_classes": [],
      "_model_module": "@jupyter-widgets/controls",
      "_model_module_version": "1.5.0",
      "_model_name": "CheckboxModel",
      "_view_count": null,
      "_view_module": "@jupyter-widgets/controls",
      "_view_module_version": "1.5.0",
      "_view_name": "CheckboxView",
      "description": "Learn",
      "description_tooltip": null,
      "disabled": false,
      "indent": true,
      "layout": "IPY_MODEL_4810d302340a4bbfb0ad1e2ec353b703",
      "style": "IPY_MODEL_787894e6edf14f8bae810ecbab9b7fee",
      "value": false
     }
    },
    "c969b5a188b143aebc529dd70410c535": {
     "model_module": "@jupyter-widgets/controls",
     "model_module_version": "1.5.0",
     "model_name": "SliderStyleModel",
     "state": {
      "_model_module": "@jupyter-widgets/controls",
      "_model_module_version": "1.5.0",
      "_model_name": "SliderStyleModel",
      "_view_count": null,
      "_view_module": "@jupyter-widgets/base",
      "_view_module_version": "1.2.0",
      "_view_name": "StyleView",
      "description_width": "",
      "handle_color": null
     }
    },
    "edc031de6f724d8cb0d19a9c129ef46c": {
     "model_module": "@jupyter-widgets/base",
     "model_module_version": "1.2.0",
     "model_name": "LayoutModel",
     "state": {
      "_model_module": "@jupyter-widgets/base",
      "_model_module_version": "1.2.0",
      "_model_name": "LayoutModel",
      "_view_count": null,
      "_view_module": "@jupyter-widgets/base",
      "_view_module_version": "1.2.0",
      "_view_name": "LayoutView",
      "align_content": null,
      "align_items": null,
      "align_self": null,
      "border": null,
      "bottom": null,
      "display": null,
      "flex": null,
      "flex_flow": null,
      "grid_area": null,
      "grid_auto_columns": null,
      "grid_auto_flow": null,
      "grid_auto_rows": null,
      "grid_column": null,
      "grid_gap": null,
      "grid_row": null,
      "grid_template_areas": null,
      "grid_template_columns": null,
      "grid_template_rows": null,
      "height": null,
      "justify_content": null,
      "justify_items": null,
      "left": null,
      "margin": null,
      "max_height": null,
      "max_width": null,
      "min_height": null,
      "min_width": null,
      "object_fit": null,
      "object_position": null,
      "order": null,
      "overflow": null,
      "overflow_x": null,
      "overflow_y": null,
      "padding": null,
      "right": null,
      "top": null,
      "visibility": null,
      "width": null
     }
    },
    "f376bbbeabcb4f6b96d661e402f451b4": {
     "model_module": "@jupyter-widgets/base",
     "model_module_version": "1.2.0",
     "model_name": "LayoutModel",
     "state": {
      "_model_module": "@jupyter-widgets/base",
      "_model_module_version": "1.2.0",
      "_model_name": "LayoutModel",
      "_view_count": null,
      "_view_module": "@jupyter-widgets/base",
      "_view_module_version": "1.2.0",
      "_view_name": "LayoutView",
      "align_content": null,
      "align_items": null,
      "align_self": null,
      "border": null,
      "bottom": null,
      "display": null,
      "flex": null,
      "flex_flow": null,
      "grid_area": null,
      "grid_auto_columns": null,
      "grid_auto_flow": null,
      "grid_auto_rows": null,
      "grid_column": null,
      "grid_gap": null,
      "grid_row": null,
      "grid_template_areas": null,
      "grid_template_columns": null,
      "grid_template_rows": null,
      "height": null,
      "justify_content": null,
      "justify_items": null,
      "left": null,
      "margin": null,
      "max_height": null,
      "max_width": null,
      "min_height": null,
      "min_width": null,
      "object_fit": null,
      "object_position": null,
      "order": null,
      "overflow": null,
      "overflow_x": null,
      "overflow_y": null,
      "padding": null,
      "right": null,
      "top": null,
      "visibility": null,
      "width": null
     }
    },
    "fdca9f785b0e47f880c6bb3dc685d397": {
     "model_module": "@jupyter-widgets/controls",
     "model_module_version": "1.5.0",
     "model_name": "DescriptionStyleModel",
     "state": {
      "_model_module": "@jupyter-widgets/controls",
      "_model_module_version": "1.5.0",
      "_model_name": "DescriptionStyleModel",
      "_view_count": null,
      "_view_module": "@jupyter-widgets/base",
      "_view_module_version": "1.2.0",
      "_view_name": "StyleView",
      "description_width": ""
     }
    }
   }
  }
 },
 "nbformat": 4,
 "nbformat_minor": 1
}
