{
 "cells": [
  {
   "cell_type": "markdown",
   "id": "9447007b",
   "metadata": {},
   "source": [
    "# Lab 7: Implementing a relu MLP in PyTorch"
   ]
  },
  {
   "cell_type": "code",
   "execution_count": null,
   "id": "f6243241",
   "metadata": {},
   "outputs": [],
   "source": [
    "import torch\n",
    "import torch.nn as nn\n",
    "import numpy as np \n",
    "import matplotlib.pyplot as plt\n"
   ]
  },
  {
   "cell_type": "markdown",
   "id": "496eaaee",
   "metadata": {},
   "source": [
    "#### Question 1: Defining a 1-hidden layer relu MLP for regression\n",
    "In this exercise, you will implement a 1 hidden layer MLP with relu activation from scratch as a Torch module. The model is described below:\n",
    "\n",
    "* Assume the data vectors $\\mathbf{x}$ have shape $(1,d)$ and the MLP has $k$ hidden units. \n",
    "* The parameters are $\\theta=[\\mathbf{w}_1,b_1,\\mathbf{w}_o,b_o]$ \n",
    "* This model computes a hidden vector as $\\mathbf{h}_n = relu(\\mathbf{x}_n\\mathbf{w}_1 + b_1)$\n",
    "* It then computes an output as $y_n = \\mathbf{h}_n\\mathbf{w}_o + b_o$\n",
    "* Assume $y_n$ is a real scalar"
   ]
  },
  {
   "cell_type": "markdown",
   "id": "e2e23494",
   "metadata": {},
   "source": [
    "a) What is the shape of each of the four model parameters"
   ]
  },
  {
   "cell_type": "markdown",
   "id": "6b032e50",
   "metadata": {},
   "source": [
    "Answer: "
   ]
  },
  {
   "cell_type": "markdown",
   "id": "68a9a410",
   "metadata": {},
   "source": [
    "b) Compelte the definition of the model below. "
   ]
  },
  {
   "cell_type": "code",
   "execution_count": null,
   "id": "512c66ec",
   "metadata": {},
   "outputs": [],
   "source": [
    "class relu_mlp(nn.Module):\n",
    "    def __init__(self,d,k):\n",
    "        '''Inputs:\n",
    "             d: length of the input vectors\n",
    "             k: number of hidden units\n",
    "        '''    \n",
    "        super(relu_mlp, self).__init__()\n",
    "        self.w1 = \n",
    "        self.b1 = \n",
    "        self.wo = \n",
    "        self.bo = \n",
    "        \n",
    "    def forward(self,x):\n",
    "        '''Inputs:\n",
    "             x: tensor of shape (N,d)\n",
    "           Outputs:\n",
    "             output of relu mlp given\n",
    "        '''\n",
    "           \n",
    "        h= \n",
    "        y= \n",
    "\n",
    "        return y"
   ]
  },
  {
   "cell_type": "markdown",
   "id": "b5a5a389",
   "metadata": {
    "hidden": true
   },
   "source": [
    "c) Verify that your model can be initialized and the forward pass produces output of the correct shape using the code below"
   ]
  },
  {
   "cell_type": "code",
   "execution_count": null,
   "id": "32094152",
   "metadata": {
    "hidden": true
   },
   "outputs": [],
   "source": [
    "X = torch.randn(1000,2)\n",
    "Y = -3*X[:,[0]] + 2*X[:,[1]]**2 + 3\n",
    "\n",
    "Xte = torch.randn(1000,2)\n",
    "Yte = -3*Xte[:,[0]] + 2*Xte[:,[1]]**2 + 3\n",
    "\n",
    "model = relu_mlp(2,1)\n",
    "model.forward(X[:10,:])"
   ]
  },
  {
   "cell_type": "markdown",
   "id": "01f45e76",
   "metadata": {
    "hidden": true
   },
   "source": [
    "d) Use the code below to learn the model and plot the loss during optimization"
   ]
  },
  {
   "cell_type": "code",
   "execution_count": null,
   "id": "0ae9e3ca",
   "metadata": {},
   "outputs": [],
   "source": [
    "def mse(y,yhat):\n",
    "    return torch.mean((y-yhat)**2)\n",
    "\n",
    "def fit(model, lr, max_iter):\n",
    "    optimizer = torch.optim.SGD(model.parameters(), lr=lr)\n",
    "    losses=[]\n",
    "    for i in range(max_iter):\n",
    "        Yhat = model.forward(X)\n",
    "        loss = mse(Yhat,Y)\n",
    "        optimizer.zero_grad()\n",
    "        loss.backward()\n",
    "        optimizer.step()\n",
    "        losses.append(loss.detach().numpy().item())\n",
    "        if(i%10==0):\n",
    "            print(\"%d %.2f\"%(i, losses[-1]))\n",
    "            \n",
    "    return(losses)\n",
    "\n",
    "k     = 20\n",
    "model = relu_mlp(2,k)\n",
    "losses  = fit(model, 0.05, 100)"
   ]
  },
  {
   "cell_type": "code",
   "execution_count": null,
   "id": "3dae5134",
   "metadata": {},
   "outputs": [],
   "source": [
    "plt.figure()\n",
    "plt.plot(losses)\n",
    "plt.xlabel(\"Epoch\")\n",
    "plt.ylabel(\"Loss\")\n",
    "plt.title(\"Training Loss vs Epoch\")\n",
    "plt.grid(True)"
   ]
  },
  {
   "cell_type": "markdown",
   "id": "5635ec6c",
   "metadata": {
    "hidden": true
   },
   "source": [
    "e) Given the test data in Xte and Yte, compute the test loss of the fit model"
   ]
  },
  {
   "cell_type": "code",
   "execution_count": null,
   "id": "02a7f234",
   "metadata": {
    "hidden": true
   },
   "outputs": [],
   "source": [
    "model.eval()\n",
    "with torch.no_grad():\n",
    "    te_err=mse(Yte,model.forward(Xte))\n",
    "    print(f\"test error: {te_err:.4f}\")"
   ]
  }
 ],
 "metadata": {
  "kernelspec": {
   "display_name": "Python 3 (ipykernel)",
   "language": "python",
   "name": "python3"
  },
  "language_info": {
   "codemirror_mode": {
    "name": "ipython",
    "version": 3
   },
   "file_extension": ".py",
   "mimetype": "text/x-python",
   "name": "python",
   "nbconvert_exporter": "python",
   "pygments_lexer": "ipython3",
   "version": "3.11.5"
  }
 },
 "nbformat": 4,
 "nbformat_minor": 5
}
