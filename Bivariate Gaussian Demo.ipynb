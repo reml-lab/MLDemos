{
 "cells": [
  {
   "cell_type": "markdown",
   "metadata": {},
   "source": [
    "# Bivariate Gaussian Demo"
   ]
  },
  {
   "cell_type": "code",
   "execution_count": 12,
   "metadata": {
    "scrolled": false
   },
   "outputs": [],
   "source": [
    "#Load Packages\n",
    "\n",
    "%matplotlib inline\n",
    "from ipywidgets import interactive_output\n",
    "import ipywidgets as widgets\n",
    "\n",
    "import numpy as np\n",
    "import matplotlib.pyplot as plt\n",
    "from mpl_toolkits.mplot3d import Axes3D\n",
    "from matplotlib.colors import ListedColormap\n",
    "import ipywidgets as widgets\n",
    "from IPython.display import display\n",
    "\n",
    "from scipy.stats import multivariate_normal\n",
    "\n",
    "cmap_light = ListedColormap(['#FFAAAA', '#AAAAFF'])\n",
    "labels=['sr','ob','^g']\n",
    "colors=['r','b','g']\n",
    "    \n",
    "#Define plotting function\n",
    "def plot_func_3d(f,title):\n",
    "\n",
    "    fig = plt.figure(1,figsize=(8,8))\n",
    "\n",
    "    #Prepare grid for plotting decision surface\n",
    "    gx1, gx2 = np.meshgrid(np.linspace(-5,5,1000),np.linspace(-5, 5,1000))\n",
    "    gx1l = gx1.flatten()\n",
    "    gx2l = gx2.flatten()\n",
    "    gx   = np.vstack((gx1l,gx2l)).T\n",
    "\n",
    "    #Compute a prediction for every point in the grid\n",
    "    y = f(gx)\n",
    "    y = y.reshape(gx1.shape)\n",
    "    \n",
    "    plt.gca().plot_surface(gx1,gx2,y,cmap=plt.cm.jet, alpha=0.8)\n",
    "    plt.gca().set_zlim3d(bottom=0, top=0.3)\n",
    "    \n",
    "    plt.axis('tight')\n",
    "    plt.title(title);    \n",
    "    plt.xlabel(\"x0\")\n",
    "    plt.ylabel(\"x1\")\n",
    "    \n",
    "def plot_model(mu0=0.0,mu1=0.0,sigma0=1.0,sigma1=1.0,rho=0.0,azim=0,elev=0):\n",
    "\n",
    "    rv = multivariate_normal([mu0, mu1], [[sigma0**2, rho*sigma0*sigma1], [rho*sigma0*sigma1, sigma1**2]])\n",
    "    f  = lambda x: rv.pdf(x)\n",
    "    plt.subplot(1,1,1, projection='3d')\n",
    "    plot_func_3d(f,\"Bivariate Gaussian\" )\n",
    "    plt.gca().set_zlim3d(bottom=0, top=0.3)\n",
    "    plt.xlim(-5,5)\n",
    "    plt.ylim(-5,5)\n",
    "    plt.gca().view_init(elev=elev,azim=azim)\n",
    "    plt.show()    \n",
    "\n",
    "wmu0    = widgets.FloatSlider(value=-0.0,min=-5,max=5.0,step=0.1,description='mu[0]',continuous_update=False,readout=True,readout_format='.2f',)\n",
    "wmu1    = widgets.FloatSlider(value=-0.0,min=-5,max=5.0,step=0.1,description='mu[1]',continuous_update=False,readout=True,readout_format='.2f',)\n",
    "wsigma0 = widgets.FloatSlider(value=1.0,min=0,max=10.0,step=0.1,description='sigma[0]',continuous_update=False,readout=True,readout_format='.2f',)\n",
    "wsigma1 = widgets.FloatSlider(value=1.0,min=0,max=10.0,step=0.1,description='sigma[1]',continuous_update=False,readout=True,readout_format='.2f',)\n",
    "wrho    = widgets.FloatSlider(value=0.0,min=-0.99,max=0.99,step=0.1,description='rho',continuous_update=False,readout=True,readout_format='.2f',)\n",
    "\n",
    "wa = widgets.IntSlider(value=-120,min=-180,max=180,step=1,description=\"Azim\",continuous_update=False)\n",
    "we = widgets.IntSlider(value=15,min=0,max=90,step=1,description=\"Elev.\",continuous_update=False)\n",
    "\n",
    "out = interactive_output(plot_model, {\"mu0\":wmu0,\"mu1\":wmu1,\"sigma0\":wsigma0,\"sigma1\":wsigma1,\"rho\":wrho,\"azim\":wa,\"elev\":we})\n",
    "\n",
    "box1=widgets.HBox([wmu0,wmu1])\n",
    "box2=widgets.HBox([wsigma0,wsigma1,wrho])\n",
    "box3=widgets.HBox([wa,we])\n",
    "\n",
    "ui=widgets.VBox([box1,box2,box3])\n",
    "\n"
   ]
  },
  {
   "cell_type": "markdown",
   "metadata": {},
   "source": [
    "We represent the bivariate Guassian model via the mean vector $\\mu=[\\mu_0,\\mu_1]$, the marginal standard deviations $\\sigma_0$ and $\\sigma_1$ and the correlation coefficient $\\rho$. \n",
    "\n",
    "The covariance matrix is given by $\\Sigma=\\begin{bmatrix} \\sigma_0^2 & \\rho\\sigma_0\\sigma_1 \\\\ \\rho\\sigma_0\\sigma_1 &\\sigma_1^2\\end{bmatrix}$"
   ]
  },
  {
   "cell_type": "code",
   "execution_count": 13,
   "metadata": {},
   "outputs": [
    {
     "data": {
      "application/vnd.jupyter.widget-view+json": {
       "model_id": "cbc57f5df9e04020b9f919e594a95ce6",
       "version_major": 2,
       "version_minor": 0
      },
      "text/plain": [
       "VBox(children=(HBox(children=(FloatSlider(value=-0.0, continuous_update=False, description='mu[0]', max=5.0, m…"
      ]
     },
     "metadata": {},
     "output_type": "display_data"
    },
    {
     "data": {
      "application/vnd.jupyter.widget-view+json": {
       "model_id": "8afbff6e038840d5b03e98178dcbc827",
       "version_major": 2,
       "version_minor": 0
      },
      "text/plain": [
       "Output(outputs=({'output_type': 'display_data', 'data': {'text/plain': '<Figure size 640x480 with 1 Axes>', 'i…"
      ]
     },
     "metadata": {},
     "output_type": "display_data"
    }
   ],
   "source": [
    "display(ui,out)"
   ]
  },
  {
   "cell_type": "code",
   "execution_count": null,
   "metadata": {},
   "outputs": [],
   "source": []
  }
 ],
 "metadata": {
  "anaconda-cloud": {},
  "kernelspec": {
   "display_name": "689",
   "language": "python",
   "name": "python3"
  },
  "language_info": {
   "codemirror_mode": {
    "name": "ipython",
    "version": 3
   },
   "file_extension": ".py",
   "mimetype": "text/x-python",
   "name": "python",
   "nbconvert_exporter": "python",
   "pygments_lexer": "ipython3",
   "version": "3.11.5"
  }
 },
 "nbformat": 4,
 "nbformat_minor": 1
}
