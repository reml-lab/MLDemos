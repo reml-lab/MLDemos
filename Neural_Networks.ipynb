{
 "cells": [
  {
   "cell_type": "markdown",
   "metadata": {},
   "source": [
    "# Neural Networks"
   ]
  },
  {
   "cell_type": "markdown",
   "metadata": {},
   "source": [
    "Imports and Helper Functions\n",
    "---"
   ]
  },
  {
   "cell_type": "code",
   "execution_count": 21,
   "metadata": {},
   "outputs": [],
   "source": [
    "import numpy as np\n",
    "import matplotlib.pyplot as plt\n",
    "import ipywidgets as widgets\n",
    "from IPython.display import display\n",
    "from sklearn import datasets as skdatasets\n",
    "from ipywidgets import interactive_output\n",
    "\n",
    "import torch\n",
    "import torch.nn as nn\n",
    "from torch.autograd import Variable\n",
    "import torch.nn.functional as F\n",
    "import torch.optim as optim\n",
    "\n",
    "%matplotlib inline\n",
    "\n",
    "try:\n",
    "    import demo_datasets as ds\n",
    "except:\n",
    "    !curl https://raw.githubusercontent.com/reml-lab/MLDemos/refs/heads/main/demo_datasets.py -o demo_datasets.py\n",
    "    import demo_datasets as ds"
   ]
  },
  {
   "cell_type": "markdown",
   "metadata": {},
   "source": [
    "## Model Creation"
   ]
  },
  {
   "cell_type": "code",
   "execution_count": 22,
   "metadata": {},
   "outputs": [],
   "source": [
    "#Define a basic MLP with pyTorch\n",
    "class MLP(nn.Module):\n",
    "    def __init__(self, K):\n",
    "        super(MLP, self).__init__()\n",
    "        self.fc1 = nn.Linear(2, K)\n",
    "        self.out = nn.Linear(K, 1)\n",
    "        self.ceriation = nn.BCELoss()\n",
    "\n",
    "    def _predict_proba(self, X):\n",
    "        h1 = torch.sigmoid(self.fc1(X))\n",
    "        yhat = torch.sigmoid(self.out(h1))\n",
    "        return yhat\n",
    "\n",
    "    def forward(self, X, y):\n",
    "        yhat = self._predict_proba(X)\n",
    "        loss = self.ceriation(yhat, y)\n",
    "        return loss\n",
    "\n",
    "    def predict_proba(self, X):\n",
    "        X = Variable(torch.from_numpy(X).float())\n",
    "        yhat = self._predict_proba(X)\n",
    "        return yhat.data.numpy()\n",
    "\n",
    "    def fit(self, X, y, verbose=False):\n",
    "        X2 = torch.from_numpy(X).float()\n",
    "        y2 = torch.from_numpy(y[:, np.newaxis]).float()\n",
    "        optimizer = optim.Adam(self.parameters(), lr=0.1, weight_decay=1e-10)\n",
    "\n",
    "        old_loss = np.inf\n",
    "        for epoch in range(100):\n",
    "            optimizer.zero_grad()\n",
    "            loss = self(Variable(X2), Variable(y2))\n",
    "            loss.backward()\n",
    "            optimizer.step()\n",
    "            if np.abs(loss.data.item() - old_loss) / np.abs(loss.data.item()) < 1e-6:\n",
    "                break\n",
    "            old_loss = loss.data.item()\n",
    "            if verbose:\n",
    "                print('==>>> epoch: {}, train loss: {:.6f}'.format(epoch, loss.data.item()))\n",
    "        if verbose:\n",
    "            print('==>>> epoch: {}, train loss: {:.6f}'.format(epoch, loss.data.item()))"
   ]
  },
  {
   "cell_type": "markdown",
   "metadata": {},
   "source": [
    "## Dataset Generation"
   ]
  },
  {
   "cell_type": "code",
   "execution_count": 23,
   "metadata": {},
   "outputs": [],
   "source": [
    "datasets={}\n",
    "def make_datasets():\n",
    "    global datasets\n",
    "    datasets[\"Blobs\"]={\"train\":ds.make_blobs(),\"test\":ds.make_blobs()}\n",
    "    datasets[\"XOR\"]={\"train\":ds.make_xor(),\"test\":ds.make_xor()}\n",
    "    datasets[\"Circles\"]={\"train\":ds.make_circles(),\"test\":ds.make_circles()}\n",
    "    datasets[\"Moons\"]={\"train\":ds.make_moons(),\"test\":ds.make_moons()}\n",
    "    datasets[\"Random\"]={\"train\":ds.make_random(),\"test\":ds.make_random()}\n",
    "\n",
    "make_datasets()"
   ]
  },
  {
   "cell_type": "markdown",
   "metadata": {},
   "source": [
    "## Plotting Function"
   ]
  },
  {
   "cell_type": "code",
   "execution_count": 24,
   "metadata": {},
   "outputs": [],
   "source": [
    "def plot_nn_classifier(dataset='Dataset 1', N=10, K=5,t=0, showtrain=True,showtest=False):\n",
    "    plt.figure(figsize=(10, 6))\n",
    "    plt.rcParams.update({'font.size': 12})\n",
    "\n",
    "    if dataset is not None and N > 0:\n",
    "        # Gather dataset\n",
    "\n",
    "        Xtrain, Ytrain = datasets[dataset][\"train\"]\n",
    "        Xtrain = Xtrain[:N]\n",
    "        Ytrain = Ytrain[:N]\n",
    "\n",
    "        Xtest, Ytest = datasets[dataset][\"test\"]\n",
    "\n",
    "        # Plot original data\n",
    "\n",
    "        if(showtest):\n",
    "            ind1 = (Ytest == 1)\n",
    "            indm1 = (Ytest == 0)\n",
    "            plt.plot(Xtest[indm1, 0], Xtest[indm1, 1], 'rx', alpha=0.5,markersize=5)\n",
    "            plt.plot(Xtest[ind1, 0], Xtest[ind1, 1], 'bx', alpha=0.5, markersize=5) \n",
    "\n",
    "        if(showtrain):\n",
    "            ind1 = (Ytrain == 1)\n",
    "            indm1 = (Ytrain == 0)\n",
    "            plt.plot(Xtrain[indm1, 0], Xtrain[indm1, 1], 'rs', alpha=0.5)\n",
    "            plt.plot(Xtrain[ind1, 0], Xtrain[ind1, 1], 'bs', alpha=0.5)   \n",
    "\n",
    "        # Create the classifier\n",
    "        model = MLP(K)\n",
    "        model.fit(Xtrain, Ytrain)\n",
    "\n",
    "        # Calculate prediction error\n",
    "\n",
    "        Yprob = np.reshape(model.predict_proba(Xtrain), -1)\n",
    "        Yhat = 1 * (Yprob >= 0.5)\n",
    "        Rtrain = np.mean(Yhat != Ytrain)\n",
    "\n",
    "        Yprob = np.reshape(model.predict_proba(Xtest), -1)\n",
    "        Yhat = 1 * (Yprob >= 0.5)\n",
    "        Rtest = np.mean(Yhat != Ytest)\n",
    "\n",
    "        # Create contours for background plot\n",
    "\n",
    "        gx1, gx2 = np.meshgrid(np.arange(-10, 10, 1 / 10.0), np.arange(-10, 10, 1 / 10.0))\n",
    "        gx1l = gx1.flatten()\n",
    "        gx2l = gx2.flatten()\n",
    "        gx = np.vstack((gx1l, gx2l)).T\n",
    "        gyhat = model.predict_proba(gx)[:, 0]\n",
    "        gyhat = gyhat.reshape(gx1.shape)\n",
    "\n",
    "        if (not all(gyhat.flatten() == 0)):\n",
    "            contours = plt.contour(gx1, gx2, gyhat, levels=[0.5], linewidths=2, colors=[\"k\"])\n",
    "            plt.imshow(gyhat, interpolation='nearest', extent=(-10, 10, -10, 10), aspect='auto', origin='lower',\n",
    "                       cmap=plt.cm.bwr_r, alpha=0.50)\n",
    "            plt.clim(0, 1)\n",
    "            plt.colorbar()\n",
    "\n",
    "        plt.xlim(-10, 10)\n",
    "        plt.ylim(-10, 10)\n",
    "        plt.title(f\"MLP (K={K}, Train Error Rate: {Rtrain:.4g}, Test Error Rate: {Rtest:.4g})\")\n",
    "        plt.xlabel(\"X0\")\n",
    "        plt.ylabel(\"X1\")\n",
    "        plt.grid(True)\n",
    "        plt.legend([\"Class 0\", \"Class 1\"], loc='upper left')\n",
    "        plt.show()"
   ]
  },
  {
   "cell_type": "code",
   "execution_count": 25,
   "metadata": {},
   "outputs": [
    {
     "data": {
      "application/vnd.jupyter.widget-view+json": {
       "model_id": "45aefea910ba4534aa884ffe45cefd6b",
       "version_major": 2,
       "version_minor": 0
      },
      "text/plain": [
       "VBox(children=(HBox(children=(Dropdown(description='Dataset', options=('Blobs', 'XOR', 'Circles', 'Moons', 'Ra…"
      ]
     },
     "metadata": {},
     "output_type": "display_data"
    },
    {
     "data": {
      "application/vnd.jupyter.widget-view+json": {
       "model_id": "a37a3867977145a5b729ac8fc45bfe27",
       "version_major": 2,
       "version_minor": 0
      },
      "text/plain": [
       "Output()"
      ]
     },
     "metadata": {},
     "output_type": "display_data"
    }
   ],
   "source": [
    "def regenerate_data(b):\n",
    "    make_datasets()\n",
    "    wtrigger.value = wtrigger.value + 1\n",
    "\n",
    "def reinit_model(b):\n",
    "    wtrigger.value = wtrigger.value + 1\n",
    "\n",
    "wd = widgets.Dropdown(\n",
    "    options=datasets.keys(),\n",
    "    description=\"Dataset\"\n",
    ")\n",
    "wn = widgets.IntSlider(value=10, min=1, max=1000, step=1, description=\"N\", continuous_update=False)\n",
    "wk = widgets.IntSlider(\n",
    "    value=1,\n",
    "    min=1,\n",
    "    max=50,\n",
    "    step=1,\n",
    "    description='K:',\n",
    "    disabled=False,\n",
    "    continuous_update=False,\n",
    "    orientation='horizontal',\n",
    "    readout=True\n",
    ")\n",
    "wrandomize = widgets.Button(description=\"Re-Generate Data\")\n",
    "wtrigger = widgets.IntText(value=0, layout=widgets.Layout(display=\"none\"))\n",
    "wtrain = widgets.Checkbox(value=True, description='Show Train', disabled=False)\n",
    "wtest = widgets.Checkbox(value=False, description='Show Test', disabled=False)\n",
    "wrandomize.on_click(regenerate_data)\n",
    "winit = widgets.Button(description=\"Re-Init Model\")\n",
    "\n",
    "wrandomize.on_click(regenerate_data)\n",
    "winit.on_click(reinit_model)\n",
    "\n",
    "out = interactive_output(\n",
    "    plot_nn_classifier,\n",
    "    {\n",
    "        \"dataset\": wd,\n",
    "        \"N\": wn,\n",
    "        \"K\": wk,\n",
    "        \"t\":wtrigger,\n",
    "        \"showtrain\":wtrain,\n",
    "        \"showtest\":wtest\n",
    "    }\n",
    ")\n",
    "\n",
    "#out.layout.height = '400px'\n",
    "box1 = widgets.HBox([wd, wrandomize, wtrain,wtest ])\n",
    "box2 = widgets.HBox([ wn, wk,winit])\n",
    "ui = widgets.VBox([box1,box2]);\n",
    "\n",
    "display(ui)\n",
    "display(out)"
   ]
  },
  {
   "cell_type": "code",
   "execution_count": null,
   "metadata": {},
   "outputs": [],
   "source": []
  }
 ],
 "metadata": {
  "anaconda-cloud": {},
  "kernelspec": {
   "display_name": "689",
   "language": "python",
   "name": "python3"
  },
  "language_info": {
   "codemirror_mode": {
    "name": "ipython",
    "version": 3
   },
   "file_extension": ".py",
   "mimetype": "text/x-python",
   "name": "python",
   "nbconvert_exporter": "python",
   "pygments_lexer": "ipython3",
   "version": "3.11.5"
  },
  "widgets": {
   "state": {
    "95da7324f7c3477fa07996565f0ff8d1": {
     "views": [
      {
       "cell_index": 2
      }
     ]
    }
   },
   "version": "1.2.0"
  }
 },
 "nbformat": 4,
 "nbformat_minor": 1
}
