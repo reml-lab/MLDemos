{
 "cells": [
  {
   "cell_type": "markdown",
   "metadata": {},
   "source": [
    "# Lecture 12: Neural Networks"
   ]
  },
  {
   "cell_type": "markdown",
   "metadata": {},
   "source": [
    "Imports and Helper Functions\n",
    "---"
   ]
  },
  {
   "cell_type": "code",
   "execution_count": 1,
   "metadata": {},
   "outputs": [],
   "source": [
    "import numpy as np\n",
    "import matplotlib.pyplot as plt\n",
    "import matplotlib.image as mpimg\n",
    "from matplotlib.colors import ListedColormap\n",
    "from subprocess import call\n",
    "import ipywidgets as widgets\n",
    "from IPython.display import display\n",
    "from sklearn import datasets as skdatasets\n",
    "from ipywidgets import interactive_output\n",
    "\n",
    "import torch\n",
    "import torch.nn as nn\n",
    "from torch.autograd import Variable\n",
    "import torch.nn.functional as F\n",
    "import torch.optim as optim\n",
    "\n",
    "#import warnings\n",
    "#warnings.filterwarnings('ignore')\n",
    "\n",
    "%matplotlib inline"
   ]
  },
  {
   "cell_type": "markdown",
   "metadata": {},
   "source": [
    "## Model Creation"
   ]
  },
  {
   "cell_type": "code",
   "execution_count": 2,
   "metadata": {},
   "outputs": [],
   "source": [
    "#Define a basic MLP with pyTorch\n",
    "class MLP(nn.Module):\n",
    "    def __init__(self, K):\n",
    "        super(MLP, self).__init__()\n",
    "        self.fc1 = nn.Linear(2, K)\n",
    "        self.out = nn.Linear(K, 1)\n",
    "        self.ceriation = nn.BCELoss()\n",
    "\n",
    "    def _predict_proba(self, X):\n",
    "        h1 = torch.sigmoid(self.fc1(X))\n",
    "        yhat = torch.sigmoid(self.out(h1))\n",
    "        return yhat\n",
    "\n",
    "    def forward(self, X, y):\n",
    "        yhat = self._predict_proba(X)\n",
    "        loss = self.ceriation(yhat, y)\n",
    "        return loss\n",
    "\n",
    "    def predict_proba(self, X):\n",
    "        X = Variable(torch.from_numpy(X).float())\n",
    "        yhat = self._predict_proba(X)\n",
    "        return yhat.data.numpy()\n",
    "\n",
    "    def fit(self, X, y, verbose=False):\n",
    "        X2 = torch.from_numpy(X).float()\n",
    "        y2 = torch.from_numpy(y[:, np.newaxis]).float()\n",
    "        optimizer = optim.Adam(self.parameters(), lr=0.1, weight_decay=1e-4)\n",
    "\n",
    "        old_loss = np.inf\n",
    "        for epoch in range(100):\n",
    "            optimizer.zero_grad()\n",
    "            loss = self(Variable(X2), Variable(y2))\n",
    "            loss.backward()\n",
    "            optimizer.step()\n",
    "            if np.abs(loss.data.item() - old_loss) / np.abs(loss.data.item()) < 1e-6:\n",
    "                break\n",
    "            old_loss = loss.data.item()\n",
    "            if verbose:\n",
    "                print('==>>> epoch: {}, train loss: {:.6f}'.format(epoch, loss.data.item()))\n",
    "        print('==>>> epoch: {}, train loss: {:.6f}'.format(epoch, loss.data.item()))"
   ]
  },
  {
   "cell_type": "markdown",
   "metadata": {},
   "source": [
    "## Dataset Generation"
   ]
  },
  {
   "cell_type": "code",
   "execution_count": 3,
   "metadata": {},
   "outputs": [],
   "source": [
    "N = 100\n",
    "datasets = {}\n",
    "\n",
    "X = np.vstack((2.5 * np.random.randn(int(N / 2), 2) - 5, (2.5 * np.random.randn(int(N / 2), 2) + 5)))\n",
    "y = np.hstack((-1 * np.ones((int(N / 2))), np.ones((int(N / 2)))))\n",
    "ind = np.random.permutation(range(N))\n",
    "datasets[\"Dataset 1\"] = (X[ind, :], y[ind])"
   ]
  },
  {
   "cell_type": "code",
   "execution_count": 4,
   "metadata": {},
   "outputs": [],
   "source": [
    "iris = skdatasets.load_iris()\n",
    "X = iris.data[:, :2][:100]  # we only take the first two features. First 100 examples have only 2 classes.\n",
    "y = iris.target[:100]\n",
    "y[(y == 0)] = -1  # convert 0 class label to -1.\n",
    "ind = np.random.permutation(range(100))  # indices to shuffle the data.\n",
    "X = X[ind, :]\n",
    "y = y[ind]\n",
    "\n",
    "# Rescale the data to [-9, 9] range.\n",
    "old_min, old_max = np.min(X[:, 0]), np.max(X[:, 0])\n",
    "old_range = old_max - old_min\n",
    "X[:, 0] = (X[:, 0] - old_min) * 18 / old_range + (-9)\n",
    "\n",
    "old_min, old_max = np.min(X[:, 1]), np.max(X[:, 1])\n",
    "old_range = old_max - old_min\n",
    "X[:, 1] = (X[:, 1] - old_min) * 18 / old_range + (-9)\n",
    "\n",
    "datasets[\"Dataset 2\"] = X, y"
   ]
  },
  {
   "cell_type": "code",
   "execution_count": 5,
   "metadata": {},
   "outputs": [],
   "source": [
    "X, y = skdatasets.make_moons(n_samples=N, shuffle=True, noise=0.2, random_state=None)\n",
    "y[(y == 0)] = -1\n",
    "\n",
    "# Rescale the data to [-9, 9] range.\n",
    "old_min, old_max = np.min(X[:, 0]), np.max(X[:, 0])\n",
    "old_range = old_max - old_min\n",
    "X[:, 0] = (X[:, 0] - old_min) * 18 / old_range + (-9)\n",
    "\n",
    "old_min, old_max = np.min(X[:, 1]), np.max(X[:, 1])\n",
    "old_range = old_max - old_min\n",
    "X[:, 1] = (X[:, 1] - old_min) * 18 / old_range + (-9)\n",
    "\n",
    "datasets[\"Dataset 3\"] = X, y"
   ]
  },
  {
   "cell_type": "code",
   "execution_count": 6,
   "metadata": {},
   "outputs": [],
   "source": [
    "# generate points for the four quadrants\n",
    "n_4 = int(N / 4)\n",
    "x1 = np.random.normal(loc=[5, 5], scale=2, size=(n_4, 2))\n",
    "x2 = np.random.normal(loc=[-5, 5], scale=2, size=(n_4, 2))\n",
    "x3 = np.random.normal(loc=[-5, -5], scale=2, size=(n_4, 2))\n",
    "x4 = np.random.normal(loc=[5, -5], scale=2, size=(n_4, 2))\n",
    "\n",
    "# make quadrant 1 and 3 as -1 label, 2 and 4 as +1 label.\n",
    "X = np.vstack((x1, x3, x2, x4))\n",
    "y = np.hstack((-1 * np.ones(n_4 * 2), np.ones(n_4 * 2)))\n",
    "\n",
    "ind = np.random.permutation(range(N))  # indices to shuffle the data.\n",
    "X = X[ind, :]\n",
    "y = y[ind]\n",
    "\n",
    "datasets[\"Dataset 4\"] = X, y"
   ]
  },
  {
   "cell_type": "code",
   "execution_count": 7,
   "metadata": {},
   "outputs": [],
   "source": [
    "# Generate 4 separate lines data\n",
    "n_4 = int(N / 4)\n",
    "\n",
    "x10 = np.random.uniform(-9.5, -5, n_4)\n",
    "x11 = x10 + 13 + np.random.uniform(0, 2, n_4)\n",
    "x1 = np.squeeze(np.dstack((x10, x11)))\n",
    "\n",
    "x30 = np.random.uniform(0, 8.5, n_4)\n",
    "x31 = x30 - 5 + np.random.uniform(0, 2, n_4)\n",
    "x3 = np.squeeze(np.dstack((x30, x31)))\n",
    "\n",
    "x20 = np.random.uniform(-9.5, -1, n_4)\n",
    "x21 = x20 + 5 + np.random.uniform(0, 2, n_4)\n",
    "x2 = np.squeeze(np.dstack((x20, x21)))\n",
    "\n",
    "x40 = np.random.uniform(5, 9.5, n_4)\n",
    "x41 = x40 - 13 - np.random.uniform(0, 2, n_4)\n",
    "x4 = np.squeeze(np.dstack((x40, x41)))\n",
    "\n",
    "X = np.vstack((x1, x3, x2, x4))\n",
    "y = np.hstack((-1 * np.ones(n_4 * 2), np.ones(n_4 * 2)))\n",
    "\n",
    "ind = np.random.permutation(range(N))  # indices to shuffle the data.\n",
    "X = X[ind, :]\n",
    "y = y[ind]\n",
    "\n",
    "datasets[\"Dataset 5\"] = X, y"
   ]
  },
  {
   "cell_type": "code",
   "execution_count": 8,
   "metadata": {},
   "outputs": [],
   "source": [
    "X, y = skdatasets.make_circles(n_samples=N, shuffle=True, noise=0.08, random_state=None, factor=0.4)\n",
    "y[(y == 0)] = -1\n",
    "\n",
    "# Rescale the data to [-9, 9] range.\n",
    "X[:, 0] = (X[:, 0] + 1) * 18 / 2 + (-9)\n",
    "X[:, 1] = (X[:, 1] + 1) * 18 / 2 + (-9)\n",
    "\n",
    "datasets[\"Dataset 6\"] = X, y"
   ]
  },
  {
   "cell_type": "code",
   "execution_count": 9,
   "metadata": {},
   "outputs": [],
   "source": [
    "X, y = skdatasets.make_classification(n_samples=100, n_features=2, n_redundant=0, n_classes=2, flip_y=0.05,\n",
    "                                     scale=[5, 5], class_sep=0.5)\n",
    "y[(y == 0)] = -1\n",
    "# print(X, y)\n",
    "datasets[\"Dataset 7\"] = X, y"
   ]
  },
  {
   "cell_type": "markdown",
   "metadata": {},
   "source": [
    "## Plotting Function"
   ]
  },
  {
   "cell_type": "code",
   "execution_count": 18,
   "metadata": {},
   "outputs": [],
   "source": [
    "def plot_nn_classifier(dataset='Dataset 1', N=10, K=5):\n",
    "    plt.figure(figsize=(10, 6))\n",
    "    plt.rcParams.update({'font.size': 12})\n",
    "\n",
    "    if dataset is not None and N > 0:\n",
    "        # Gather dataset\n",
    "\n",
    "        X, Y = datasets[dataset]\n",
    "        X = X[:N]\n",
    "        Y = Y[:N]\n",
    "        Y[Y == -1] = 0  # change Y labels to be sigmoid compatible\n",
    "\n",
    "        # Plot original data\n",
    "\n",
    "        ind1 = (Y == 1)\n",
    "        indm1 = (Y == 0)\n",
    "        plt.plot(X[ind1, 0], X[ind1, 1], 'bs', alpha=0.5)\n",
    "        plt.plot(X[indm1, 0], X[indm1, 1], 'rs', alpha=0.5)\n",
    "\n",
    "        # Create the classifier\n",
    "\n",
    "        model = MLP(K)\n",
    "        model.fit(X, Y)\n",
    "\n",
    "        # Calculate prediction error\n",
    "\n",
    "        Yprob = np.reshape(model.predict_proba(X), -1)\n",
    "        Yhat = 1 * (Yprob >= 0.5)\n",
    "        R = np.mean(Yhat != Y)\n",
    "\n",
    "        # Create contours for background plot\n",
    "\n",
    "        gx1, gx2 = np.meshgrid(np.arange(-10, 10, 1 / 10.0), np.arange(-10, 10, 1 / 10.0))\n",
    "        gx1l = gx1.flatten()\n",
    "        gx2l = gx2.flatten()\n",
    "        gx = np.vstack((gx1l, gx2l)).T\n",
    "        gyhat = 2*(model.predict_proba(gx)[:, 0]-0.5)\n",
    "        gyhat = gyhat.reshape(gx1.shape)\n",
    "        #         print('gyhat={}'.format(gyhat))\n",
    "\n",
    "        if (not all(gyhat.flatten() == 0)):\n",
    "            contours = plt.contour(gx1, gx2, gyhat, levels=[0], linewidths=2, colors=[\"k\"])\n",
    "            plt.imshow(gyhat, interpolation='nearest', extent=(-10, 10, -10, 10), aspect='auto', origin='lower',\n",
    "                       cmap=plt.cm.bwr_r, alpha=0.50)\n",
    "            plt.clim(-1, 1)\n",
    "            plt.colorbar()\n",
    "\n",
    "        plt.xlim(-10, 10)\n",
    "        plt.ylim(-10, 10)\n",
    "        plt.title(\"MLP classifier. Error rate: {:.4g}\".format(R))\n",
    "        plt.xlabel(\"X0\")\n",
    "        plt.ylabel(\"X1\")\n",
    "        plt.grid(True)\n",
    "        plt.legend([\"Class 1\", \"Class -1\"], loc='upper left')\n",
    "        plt.show()"
   ]
  },
  {
   "cell_type": "code",
   "execution_count": 19,
   "metadata": {},
   "outputs": [],
   "source": [
    "# Test cell\n",
    "# plot_nn_classifier(dataset=\"Dataset 5\", N=100, K=5)"
   ]
  },
  {
   "cell_type": "code",
   "execution_count": 22,
   "metadata": {},
   "outputs": [],
   "source": [
    "wd = widgets.Dropdown(\n",
    "    options=[\"Dataset 1\", \"Dataset 2\", \"Dataset 3\", \"Dataset 4\", \"Dataset 5\", \"Dataset 6\", \"Dataset 7\"],\n",
    "    description=\"Dataset\"\n",
    ")\n",
    "wn = widgets.IntSlider(value=10, min=1, max=N, step=1, description=\"N\", continuous_update=False)\n",
    "wk = widgets.IntSlider(\n",
    "    value=1,\n",
    "    min=1,\n",
    "    max=50,\n",
    "    step=1,\n",
    "    description='Hiddel units K:',\n",
    "    disabled=False,\n",
    "    continuous_update=True,\n",
    "    orientation='horizontal',\n",
    "    readout=True\n",
    ")\n",
    "\n",
    "out = interactive_output(\n",
    "    plot_nn_classifier,\n",
    "    {\n",
    "        \"dataset\": wd,\n",
    "        \"N\": wn,\n",
    "        \"K\": wk,\n",
    "    }\n",
    ")\n",
    "\n",
    "out.layout.height = '450px'\n",
    "box1 = widgets.HBox([wd, wn, wk])\n",
    "ui = widgets.VBox([box1]);"
   ]
  },
  {
   "cell_type": "code",
   "execution_count": 26,
   "metadata": {},
   "outputs": [
    {
     "data": {
      "application/vnd.jupyter.widget-view+json": {
       "model_id": "4e0ba370821b45a08d683dd5694bb961",
       "version_major": 2,
       "version_minor": 0
      },
      "text/plain": [
       "Output(layout=Layout(height='450px'), outputs=({'output_type': 'stream', 'text': '==>>> epoch: 99, train loss:…"
      ]
     },
     "metadata": {},
     "output_type": "display_data"
    },
    {
     "data": {
      "application/vnd.jupyter.widget-view+json": {
       "model_id": "f056ff16a04e46ea94084cbea0b19803",
       "version_major": 2,
       "version_minor": 0
      },
      "text/plain": [
       "VBox(children=(HBox(children=(Dropdown(description='Dataset', index=3, options=('Dataset 1', 'Dataset 2', 'Dat…"
      ]
     },
     "metadata": {},
     "output_type": "display_data"
    }
   ],
   "source": [
    "display(out, ui)"
   ]
  },
  {
   "cell_type": "markdown",
   "metadata": {
    "heading_collapsed": true
   },
   "source": [
    "### Interactive Mode (only for local jupyter notebook)"
   ]
  },
  {
   "cell_type": "code",
   "execution_count": 14,
   "metadata": {
    "hidden": true,
    "scrolled": false
   },
   "outputs": [],
   "source": [
    "def plot2d_data(x, y, data_name, class_names, feature_names, markers=['sr', '^b', 'og']):\n",
    "    \"\"\"Plot a 2d data set. x must be an Nx2 array of feature values. \n",
    "    y must be a N-long array of label values. data_name is a \n",
    "    string giving the name of the data set. The class labels\n",
    "    must be intergers between 1 and C. class_names must be a \n",
    "    list of strings naming the classes. feature_names must be a\n",
    "    list of strings naming the features.\"\"\"\n",
    "\n",
    "    for i in np.arange(len(class_names)):\n",
    "        plt.plot(x[y == i, 0], x[y == i, 1], markers[i], alpha=0.8);\n",
    "\n",
    "\n",
    "def interactive_classifier(clf):\n",
    "    \"\"\"Define an interactive classifier. clf can be any classifier\n",
    "    object that implements predict. fig must be a figure handle\n",
    "    to a 2d data plot created using plot2d_data(). The function\n",
    "    applies the classifier to the points that you click on and\n",
    "    plots them in the specified figure.\n",
    "    \"\"\"\n",
    "\n",
    "    #Define the event handler\n",
    "    def onclick(event):\n",
    "        global N\n",
    "        global x_tr\n",
    "        global y_tr\n",
    "        global dclass\n",
    "        global clf\n",
    "        markers = ['sr', '^b', 'og']\n",
    "        #Get the point that is clicked on\n",
    "        x = np.array([event.xdata, event.ydata])\n",
    "\n",
    "        x_tr[N, :] = x\n",
    "        y_tr[N] = dclass\n",
    "        N = N + 1\n",
    "\n",
    "        plt.clf()\n",
    "        plot_prob_classifier(clf, x_tr[:N, :], y_tr[:N], \"Interactive Classifier\", [\"Class 0\", \"Class 1\"], [\"X1\", \"X2\"])\n",
    "\n",
    "    #Create a callback to connect the handler to mouse click events \n",
    "    cid = plt.gcf().canvas.mpl_connect('button_press_event', onclick)\n",
    "\n",
    "\n",
    "#Define classifier plotting function\n",
    "def plot_prob_classifier(clf, x, y, data_name, class_names, feature_names, show_data=True, markers=['sr', '^b', 'og']):\n",
    "    #Prepare grid for plotting decision surface\n",
    "    gx1, gx2 = np.meshgrid(np.arange(-10, 10, 1 / 100.0), np.arange(-10, 10, 1 / 100.0))\n",
    "\n",
    "    gx1l = gx1.flatten()\n",
    "    gx2l = gx2.flatten()\n",
    "    gx = np.vstack((gx1l, gx2l)).T\n",
    "\n",
    "    if (N > 0):\n",
    "        plot2d_data(x, y, data_name, class_names, feature_names, markers=markers)\n",
    "\n",
    "    if (N > 1 and np.any(y == 1) and np.any(y == 0)):\n",
    "        #Compute a prediction for every point in the grid\n",
    "        #global K\n",
    "        clf.fit(x, y)\n",
    "        gyhat = 1 - clf.predict_proba(gx)[:, 0]\n",
    "        gyhat = gyhat.reshape(gx1.shape)\n",
    "        contours = plt.contour(gx1, gx2, gyhat, levels=[0.5], linewidths=2, colors=[\"k\"])\n",
    "        plt.imshow(gyhat, interpolation='nearest',\n",
    "                   extent=(-10, 10, -10, 10), aspect='auto',\n",
    "                   origin='lower', cmap=plt.cm.bwr, alpha=0.25)\n",
    "\n",
    "    else:\n",
    "        gx1[:] = 0.5\n",
    "        plt.imshow(gx1, interpolation='nearest',\n",
    "                   extent=(-10, 10, -10, 10), aspect='auto',\n",
    "                   origin='lower', cmap=plt.cm.bwr, alpha=0.25)\n",
    "\n",
    "    plt.legend(class_names)\n",
    "    plt.clim(0, 1)\n",
    "    plt.xlim((-10, 10))\n",
    "    plt.ylim((-10, 10))\n",
    "    plt.title(data_name)\n",
    "    plt.grid(True)\n",
    "    plt.xlabel(feature_names[0]);\n",
    "    plt.ylabel(feature_names[1]);\n",
    "    plt.colorbar()\n",
    "\n",
    "\n",
    "dclass = 0\n",
    "wclass = widgets.RadioButtons(\n",
    "    options=['0', '1'],\n",
    "    description='Class:',\n",
    "    disabled=False\n",
    ")\n",
    "\n",
    "wK = widgets.FloatSlider(\n",
    "    value=1,\n",
    "    min=1,\n",
    "    max=20,\n",
    "    step=1,\n",
    "    description='K:',\n",
    "    disabled=False,\n",
    "    continuous_update=False,\n",
    "    orientation='horizontal',\n",
    "    readout=True,\n",
    "    readout_format='d',\n",
    ")\n",
    "\n",
    "wbutton = widgets.Button(description=\"Reset\")\n",
    "wlearn = widgets.Button(description=\"Learn\")\n",
    "wrand = widgets.Button(description=\"Randomize\")\n",
    "\n",
    "items1 = [wclass, wK]\n",
    "items2 = [wlearn, wrand, wbutton]\n",
    "whbox1 = widgets.HBox(items1)\n",
    "whbox2 = widgets.HBox(items2)\n",
    "wvbox = widgets.VBox([whbox1, whbox2])\n",
    "\n",
    "\n",
    "def on_wclass_change(change):\n",
    "    global dclass\n",
    "    print(change)\n",
    "    dclass = int(change.new)\n",
    "    print(dclass)\n",
    "\n",
    "\n",
    "wclass.observe(on_wclass_change, names='value')\n",
    "\n",
    "\n",
    "def on_wbutton_clicked(b):\n",
    "    global fig\n",
    "    init_classifier(fig)\n",
    "\n",
    "\n",
    "wbutton.on_click(on_wbutton_clicked)\n",
    "\n",
    "\n",
    "def on_wlearn_clicked(b):\n",
    "    global x_tr\n",
    "    global y_tr\n",
    "    global clf\n",
    "    global N\n",
    "    clf.fit(x_tr[:N, :], y_tr[:N])\n",
    "    plt.clf()\n",
    "    plot_prob_classifier(clf, x_tr[:N, :], y_tr[:N], \"Interactive Classifier\", [\"Class 0\", \"Class 1\"], [\"X1\", \"X2\"])\n",
    "\n",
    "\n",
    "wlearn.on_click(on_wlearn_clicked)\n",
    "\n",
    "\n",
    "def on_wrand_clicked(b):\n",
    "    global x_tr\n",
    "    global y_tr\n",
    "    global clf\n",
    "    global N\n",
    "    global K\n",
    "    clf = MLP(K)\n",
    "    plt.clf()\n",
    "    plot_prob_classifier(clf, x_tr[:N, :], y_tr[:N], \"Interactive Classifier\", [\"Class 0\", \"Class 1\"], [\"X1\", \"X2\"])\n",
    "\n",
    "\n",
    "wrand.on_click(on_wrand_clicked)\n",
    "\n",
    "\n",
    "def on_K_change(change):\n",
    "    global clf\n",
    "    global fig\n",
    "    global x_tr\n",
    "    global y_tr\n",
    "    global clf\n",
    "    global N\n",
    "    global K\n",
    "\n",
    "    K = int(change.new)\n",
    "    clf = MLP(K)\n",
    "    plt.clf()\n",
    "    plot_prob_classifier(clf, x_tr[:N, :], y_tr[:N], \"Interactive Classifier\", [\"Class 0\", \"Class 1\"], [\"X1\", \"X2\"])\n",
    "\n",
    "\n",
    "wK.observe(on_K_change, names='value')\n",
    "\n",
    "\n",
    "def init_classifier(fig):\n",
    "    global N\n",
    "    global x_tr\n",
    "    global y_tr\n",
    "    global clf\n",
    "    global K\n",
    "    N = 0\n",
    "    K = 1\n",
    "    wK.value = 1\n",
    "    x_tr = np.zeros((100, 2))\n",
    "    y_tr = np.zeros(100)\n",
    "    clf = MLP(K)\n",
    "    fig.clf()\n",
    "    plot_prob_classifier(clf, x_tr[:N, :], y_tr[:N], \"Interactive Classifier\", [\"Class 0\", \"Class 1\"], [\"X1\", \"X2\"])\n"
   ]
  },
  {
   "cell_type": "code",
   "execution_count": 15,
   "metadata": {
    "hidden": true,
    "scrolled": false
   },
   "outputs": [
    {
     "data": {
      "text/plain": [
       "'\\nUncomment the below lines if running in a local jupyter notebook. It uses global N variable so messes up with \\nplot_nn_classifier(). Use only one at a time.\\n'"
      ]
     },
     "execution_count": 15,
     "metadata": {},
     "output_type": "execute_result"
    }
   ],
   "source": [
    "'''\n",
    "Uncomment the below lines if running in a local jupyter notebook. It uses global N variable so messes up with \n",
    "plot_nn_classifier(). Use only one at a time.\n",
    "'''\n",
    "# display(wvbox)\n",
    "# fig = plt.figure()\n",
    "# init_classifier(fig)\n",
    "# interactive_classifier(fig)"
   ]
  },
  {
   "cell_type": "markdown",
   "metadata": {
    "heading_collapsed": true
   },
   "source": [
    "### Types of Hidden Units"
   ]
  },
  {
   "cell_type": "code",
   "execution_count": 16,
   "metadata": {
    "hidden": true,
    "scrolled": false
   },
   "outputs": [
    {
     "data": {
      "image/png": "[encoded data removed]",
      "text/plain": [
       "<Figure size 720x432 with 4 Axes>"
      ]
     },
     "metadata": {
      "needs_background": "light"
     },
     "output_type": "display_data"
    }
   ],
   "source": [
    "def activation_plot(func, name):\n",
    "    X = np.linspace(-10, 10, 100)\n",
    "    Xtv = Variable(torch.from_numpy(X).float())\n",
    "    Y = func(Xtv).data.numpy()\n",
    "    plt.plot(X, Y, 'b-', linewidth=3)\n",
    "    plt.grid(True)\n",
    "    plt.xlabel('X')\n",
    "    plt.ylabel('%s(X)' % (name))\n",
    "    plt.title(\"%s Acitivation Function\" % (name))\n",
    "\n",
    "\n",
    "plt.figure(figsize=(10, 6))\n",
    "plt.subplot(2, 2, 1)\n",
    "activation_plot(torch.sigmoid, \"Sigmoid\")\n",
    "plt.subplot(2, 2, 2)\n",
    "activation_plot(torch.tanh, \"Tanh\")\n",
    "plt.subplot(2, 2, 3)\n",
    "activation_plot(torch.relu, \"ReLU\")\n",
    "plt.subplot(2, 2, 4)\n",
    "activation_plot(F.softplus, \"SoftPlus\")\n",
    "plt.tight_layout()\n",
    "plt.show()"
   ]
  },
  {
   "cell_type": "code",
   "execution_count": 17,
   "metadata": {
    "hidden": true
   },
   "outputs": [
    {
     "data": {
      "image/png": "[encoded data removed]",
      "text/plain": [
       "<Figure size 720x432 with 4 Axes>"
      ]
     },
     "metadata": {
      "needs_background": "light"
     },
     "output_type": "display_data"
    }
   ],
   "source": [
    "def activation_derivative_plot(func, name):\n",
    "    X = np.linspace(-10, 10, 100)\n",
    "    Xtv = Variable(torch.from_numpy(X).float(), requires_grad=True)\n",
    "    Ytv = func(Xtv)\n",
    "    Ytv.backward(torch.ones(X.size))\n",
    "    dYdX = Xtv.grad.data.numpy()\n",
    "    plt.plot(X, dYdX, 'b-', linewidth=3)\n",
    "    plt.grid(True)\n",
    "    plt.xlabel('X')\n",
    "    plt.ylabel('d/dX %s(X)' % (name))\n",
    "    plt.title(\"%s Derivative Function\" % (name))\n",
    "\n",
    "\n",
    "plt.figure(figsize=(10, 6))\n",
    "plt.subplot(2, 2, 1)\n",
    "activation_derivative_plot(torch.sigmoid, \"Sigmoid\")\n",
    "plt.subplot(2, 2, 2)\n",
    "activation_derivative_plot(torch.tanh, \"Tanh\")\n",
    "plt.subplot(2, 2, 3)\n",
    "activation_derivative_plot(F.relu, \"ReLU\")\n",
    "plt.subplot(2, 2, 4)\n",
    "activation_derivative_plot(F.softplus, \"SoftPlus\")\n",
    "plt.tight_layout()\n",
    "plt.show()"
   ]
  },
  {
   "cell_type": "markdown",
   "metadata": {
    "heading_collapsed": true
   },
   "source": [
    "## Accessing Parameters of Networks"
   ]
  },
  {
   "cell_type": "code",
   "execution_count": 18,
   "metadata": {
    "hidden": true
   },
   "outputs": [
    {
     "data": {
      "text/plain": [
       "OrderedDict([('fc1', Linear(in_features=2, out_features=10, bias=True)),\n",
       "             ('out', Linear(in_features=10, out_features=1, bias=True)),\n",
       "             ('ceriation', BCELoss())])"
      ]
     },
     "execution_count": 18,
     "metadata": {},
     "output_type": "execute_result"
    }
   ],
   "source": [
    "#Create model\n",
    "mlp = MLP(10)\n",
    "\n",
    "#Get list of layer modules\n",
    "mlp._modules"
   ]
  },
  {
   "cell_type": "code",
   "execution_count": 19,
   "metadata": {
    "hidden": true
   },
   "outputs": [
    {
     "data": {
      "text/plain": [
       "tensor([[-0.2160,  0.3180],\n",
       "        [ 0.0702, -0.5341],\n",
       "        [-0.5201,  0.5210],\n",
       "        [-0.1562,  0.5538],\n",
       "        [ 0.3594, -0.6834],\n",
       "        [ 0.2516,  0.0888],\n",
       "        [ 0.4095, -0.1523],\n",
       "        [ 0.6303, -0.1847],\n",
       "        [-0.1864,  0.6485],\n",
       "        [-0.2312, -0.3245]])"
      ]
     },
     "execution_count": 19,
     "metadata": {},
     "output_type": "execute_result"
    }
   ],
   "source": [
    "#Get the first layer weights\n",
    "mlp._modules['fc1'].weight.data"
   ]
  },
  {
   "cell_type": "code",
   "execution_count": 20,
   "metadata": {
    "hidden": true
   },
   "outputs": [
    {
     "data": {
      "text/plain": [
       "tensor([-0.3904,  0.4655, -0.2792,  0.5264, -0.4768,  0.0643, -0.0297,  0.2080,\n",
       "        -0.2471,  0.3505])"
      ]
     },
     "execution_count": 20,
     "metadata": {},
     "output_type": "execute_result"
    }
   ],
   "source": [
    "#Get the first layer biases\n",
    "mlp._modules['fc1'].bias.data"
   ]
  },
  {
   "cell_type": "code",
   "execution_count": 21,
   "metadata": {
    "hidden": true
   },
   "outputs": [
    {
     "data": {
      "text/plain": [
       "tensor([[ 0.1256, -0.2304,  0.1180,  0.0947,  0.1672, -0.0937, -0.2170,  0.2411,\n",
       "          0.0731, -0.2461]])"
      ]
     },
     "execution_count": 21,
     "metadata": {},
     "output_type": "execute_result"
    }
   ],
   "source": [
    "#Get the output weights\n",
    "mlp._modules['out'].weight.data"
   ]
  },
  {
   "cell_type": "code",
   "execution_count": 22,
   "metadata": {
    "hidden": true
   },
   "outputs": [
    {
     "data": {
      "text/plain": [
       "tensor([-0.0284])"
      ]
     },
     "execution_count": 22,
     "metadata": {},
     "output_type": "execute_result"
    }
   ],
   "source": [
    "#Get the output biases\n",
    "mlp._modules['out'].bias.data"
   ]
  },
  {
   "cell_type": "code",
   "execution_count": 23,
   "metadata": {
    "hidden": true
   },
   "outputs": [
    {
     "data": {
      "text/plain": [
       "tensor([[1., 1.],\n",
       "        [1., 1.],\n",
       "        [1., 1.],\n",
       "        [1., 1.],\n",
       "        [1., 1.],\n",
       "        [1., 1.],\n",
       "        [1., 1.],\n",
       "        [1., 1.],\n",
       "        [1., 1.],\n",
       "        [1., 1.]])"
      ]
     },
     "execution_count": 23,
     "metadata": {},
     "output_type": "execute_result"
    }
   ],
   "source": [
    "#Set the first layer weights\n",
    "mlp._modules['fc1'].weight.data = torch.ones(10, 2)\n",
    "#Get the first layer weights\n",
    "mlp._modules['fc1'].weight.data"
   ]
  }
 ],
 "metadata": {
  "anaconda-cloud": {},
  "kernelspec": {
   "display_name": "Python 3 (ipykernel)",
   "language": "python",
   "name": "python3"
  },
  "language_info": {
   "codemirror_mode": {
    "name": "ipython",
    "version": 3
   },
   "file_extension": ".py",
   "mimetype": "text/x-python",
   "name": "python",
   "nbconvert_exporter": "python",
   "pygments_lexer": "ipython3",
   "version": "3.9.7"
  },
  "widgets": {
   "state": {
    "95da7324f7c3477fa07996565f0ff8d1": {
     "views": [
      {
       "cell_index": 2
      }
     ]
    }
   },
   "version": "1.2.0"
  }
 },
 "nbformat": 4,
 "nbformat_minor": 1
}
