{
 "cells": [
  {
   "cell_type": "markdown",
   "metadata": {
    "id": "92EUbkaU367i"
   },
   "source": [
    "# Gradient Explorer"
   ]
  },
  {
   "cell_type": "code",
   "execution_count": 4,
   "metadata": {
    "id": "tDbvICwR367l"
   },
   "outputs": [],
   "source": [
    "#Load Packages\n",
    "import numpy as np\n",
    "import matplotlib.pyplot as plt\n",
    "import matplotlib\n",
    "from matplotlib.colors import ListedColormap\n",
    "from scipy import linalg\n",
    "from IPython.display import display, clear_output\n",
    "import time\n",
    "from ipywidgets import interact, fixed, FloatSlider, IntSlider\n",
    "\n",
    "%matplotlib inline\n",
    "\n",
    "fys=[]\n",
    "\n",
    "def plot_function(xdims, ydims, f, title):\n",
    "    global fys\n",
    "\n",
    "    #Prepare grid for plotting decision surface\n",
    "    gx1, gx2 = np.meshgrid(\n",
    "        np.arange(xdims[0], xdims[1], (xdims[1] - xdims[0]) / 100.0),\n",
    "        np.arange(ydims[0], ydims[1], (ydims[1] - ydims[0]) / 100.0)\n",
    "    )\n",
    "    gx1l = gx1.flatten()\n",
    "    gx2l = gx2.flatten()\n",
    "    gx = np.vstack((gx1l, gx2l)).T\n",
    "\n",
    "    #Compute a prediction for every point in the grid\n",
    "    #Cache for fast redisplay\n",
    "    if (len(fys) == 0):\n",
    "        y = f(gx)\n",
    "        y = np.reshape(y, gx1.shape)\n",
    "        fys = y\n",
    "    else:\n",
    "        y = fys\n",
    "\n",
    "    #Plot a contour map of the function\n",
    "    plt.contourf(gx1, gx2, y,\n",
    "                 levels=np.unique(np.round(np.linspace(0, (np.max(y)), 10))))\n",
    "    plt.colorbar()\n",
    "    plt.contour(gx1, gx2, y, colors='k',\n",
    "                levels=np.unique(np.round(np.linspace(0, (np.max(y)), 10))))\n",
    "\n",
    "    plt.xlabel('x1')\n",
    "    plt.ylabel('x2')\n",
    "    plt.grid(False)\n",
    "    plt.title(title)\n",
    "\n",
    "\n",
    "def plot_grad(q,x1=0,x2=0,steps=1,stepsize=1):\n",
    "\n",
    "    fig = plt.figure(figsize=(10, 8))\n",
    "    plot_function([-10, 10.1], [-10, 10.1], q.f, \"Objective Function\")\n",
    "    \n",
    "    plt.plot(x1, x2, 'wo')\n",
    "    for s in range(steps):\n",
    "        d = -q.g(np.array([x1,x2]))\n",
    "        if(np.abs(x1-d[0])>0.5 or np.abs(x2-d[1])>0.5):\n",
    "            plt.arrow( x1, x2, stepsize*d[0], stepsize*d[1], color='w', head_length=0.5, head_width=0.5,length_includes_head=True)\n",
    "        x1 = x1 + stepsize*d[0]\n",
    "        x2 = x2 + stepsize*d[1]\n",
    "    \n",
    "    plt.xlim(-10,10)\n",
    "    plt.ylim(-10,10)\n",
    "    plt.show()"
   ]
  },
  {
   "cell_type": "markdown",
   "metadata": {
    "id": "rDP5GShF367n"
   },
   "source": [
    "Create a Function\n",
    "==="
   ]
  },
  {
   "cell_type": "code",
   "execution_count": 5,
   "metadata": {
    "id": "nN5Fzn0Z367o"
   },
   "outputs": [],
   "source": [
    "class quad_func():\n",
    "    def __init__(self, A, b, c):\n",
    "        self.A = A\n",
    "        self.b = b\n",
    "        self.c = c\n",
    "        self.fcount = 0\n",
    "        self.gcount = 0\n",
    "\n",
    "    def f(self, x):\n",
    "        self.fcount += 1\n",
    "        if (len(x.shape) == 1):\n",
    "            fx = x.T.dot(self.A).dot(x) + x.dot(self.b.T) + self.c\n",
    "            return fx[0]\n",
    "        else:\n",
    "            return np.sum(x.dot(self.A) * x, axis=1, keepdims=True) + x.dot(self.b.T) + self.c\n",
    "\n",
    "    def g(self, x):\n",
    "        self.gcount += 1\n",
    "        return 2 * np.reshape(x.dot(self.A) + self.b, x.shape)\n",
    "\n",
    "    def reset_counts(self):\n",
    "        self.fcount = 0\n",
    "        self.gcount = 0\n"
   ]
  },
  {
   "cell_type": "markdown",
   "metadata": {
    "id": "UVsTleGl367p"
   },
   "source": [
    "Gradient Explorer\n",
    "--"
   ]
  },
  {
   "cell_type": "code",
   "execution_count": 3,
   "metadata": {
    "colab": {
     "base_uri": "https://localhost:8080/",
     "height": 513
    },
    "id": "aLAQlpSD367p",
    "outputId": "c820bc97-712e-403d-d282-54243acd0127",
    "scrolled": false
   },
   "outputs": [
    {
     "data": {
      "application/vnd.jupyter.widget-view+json": {
       "model_id": "19c1f94a4a8d4045ab69fbb9585b9dce",
       "version_major": 2,
       "version_minor": 0
      },
      "text/plain": [
       "interactive(children=(FloatSlider(value=0.0, continuous_update=False, description='x1', max=10.0, min=-10.0, s…"
      ]
     },
     "metadata": {},
     "output_type": "display_data"
    }
   ],
   "source": [
    "q = quad_func(np.array([[0.1, 0.05], [0.05, 0.1]]), np.array([[0, 0]]), 7)\n",
    "\n",
    "x1s=FloatSlider(min=-10, max=10, step=0.5, continuous_update=False)\n",
    "x2s=FloatSlider(min=-10, max=10, step=0.5, continuous_update=False)\n",
    "ss =IntSlider(min=1, max=20, continuous_update=False)\n",
    "\n",
    "interact(plot_grad, q=fixed(q), x1=x1s,x2=x2s,steps=ss,stepsize=[0.1,1,2.5,5,10]);"
   ]
  },
  {
   "cell_type": "code",
   "execution_count": null,
   "metadata": {},
   "outputs": [],
   "source": []
  }
 ],
 "metadata": {
  "anaconda-cloud": {},
  "colab": {
   "collapsed_sections": [],
   "name": "Numerical Optimization.ipynb",
   "provenance": []
  },
  "kernelspec": {
   "display_name": "Python 3 (ipykernel)",
   "language": "python",
   "name": "python3"
  },
  "language_info": {
   "codemirror_mode": {
    "name": "ipython",
    "version": 3
   },
   "file_extension": ".py",
   "mimetype": "text/x-python",
   "name": "python",
   "nbconvert_exporter": "python",
   "pygments_lexer": "ipython3",
   "version": "3.9.7"
  }
 },
 "nbformat": 4,
 "nbformat_minor": 1
}
